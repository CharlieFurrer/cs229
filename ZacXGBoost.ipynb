{
 "cells": [
  {
   "cell_type": "code",
   "execution_count": 1,
   "metadata": {},
   "outputs": [],
   "source": [
    "# For compatibility across multiple platforms\n",
    "import os\n",
    "import numpy as np\n",
    "import pandas as pd\n",
    "from scipy import spatial\n",
    "\n",
    "\n",
    "# Load files using DictReader in Python\n",
    "import matplotlib.pyplot as plt\n",
    "import xgboost as xgb\n",
    "from sklearn.neighbors import KNeighborsClassifier\n",
    "from sklearn.tree import DecisionTreeClassifier\n",
    "from sklearn.ensemble import RandomForestClassifier\n",
    "from sklearn.naive_bayes import GaussianNB\n",
    "from sklearn.model_selection import train_test_split\n",
    "from sklearn import cluster\n",
    "from sklearn import preprocessing\n",
    "from sklearn.model_selection import KFold\n",
    "import sklearn"
   ]
  },
  {
   "cell_type": "code",
   "execution_count": 2,
   "metadata": {
    "scrolled": true
   },
   "outputs": [
    {
     "name": "stderr",
     "output_type": "stream",
     "text": [
      "C:\\Users\\zacfa\\.julia\\conda\\3\\lib\\site-packages\\numpy\\lib\\arraysetops.py:522: FutureWarning: elementwise comparison failed; returning scalar instead, but in the future will perform elementwise comparison\n",
      "  mask |= (ar1 == a)\n"
     ]
    }
   ],
   "source": [
    "train_filepath = \"pubg-finish-placement-prediction/train_V2_clean.csv\"\n",
    "\n",
    "#trainset_file = open(train_filepath,'rU')\n",
    "trainset = pd.read_csv(train_filepath,index_col=0)\n"
   ]
  },
  {
   "cell_type": "code",
   "execution_count": 3,
   "metadata": {},
   "outputs": [
    {
     "name": "stdout",
     "output_type": "stream",
     "text": [
      "4446965\n"
     ]
    }
   ],
   "source": [
    "print(len(trainset))"
   ]
  },
  {
   "cell_type": "markdown",
   "metadata": {},
   "source": [
    "## Remove Illegal Match"
   ]
  },
  {
   "cell_type": "code",
   "execution_count": 4,
   "metadata": {},
   "outputs": [],
   "source": [
    "trainset = trainset.drop([\"matchType\"],axis=1)"
   ]
  },
  {
   "cell_type": "markdown",
   "metadata": {},
   "source": [
    "# Normalization and feature engineering"
   ]
  },
  {
   "cell_type": "markdown",
   "metadata": {},
   "source": [
    "Add a feature for the number of players joined"
   ]
  },
  {
   "cell_type": "code",
   "execution_count": 6,
   "metadata": {},
   "outputs": [],
   "source": [
    "trainset['playersJoined'] = trainset.groupby('matchId')['matchId'].transform('count')\n",
    "trainset['killsNorm'] = trainset['kills']*((100-trainset['playersJoined'])/100 + 1)\n",
    "trainset['damageDealtNorm'] = trainset['damageDealt']*((100-trainset['playersJoined'])/100 + 1)\n",
    "trainset['maxPlaceNorm'] = trainset['maxPlace']*((100-trainset['playersJoined'])/100 + 1)\n",
    "trainset['matchDurationNorm'] = trainset['matchDuration']*((100-trainset['playersJoined'])/100 + 1)"
   ]
  },
  {
   "cell_type": "markdown",
   "metadata": {},
   "source": [
    "# Train on XGBoost"
   ]
  },
  {
   "cell_type": "code",
   "execution_count": 7,
   "metadata": {},
   "outputs": [],
   "source": [
    "train_columns = list(trainset.columns[:-1])\n",
    "x = trainset[train_columns]\n",
    "y = trainset[\"winPlacePerc\"]\n",
    "\n",
    "\n",
    "x_train, x_val, y_train, y_val = train_test_split(x, y, test_size=0.2)"
   ]
  },
  {
   "cell_type": "code",
   "execution_count": 8,
   "metadata": {},
   "outputs": [
    {
     "data": {
      "text/html": [
       "<div>\n",
       "<style scoped>\n",
       "    .dataframe tbody tr th:only-of-type {\n",
       "        vertical-align: middle;\n",
       "    }\n",
       "\n",
       "    .dataframe tbody tr th {\n",
       "        vertical-align: top;\n",
       "    }\n",
       "\n",
       "    .dataframe thead th {\n",
       "        text-align: right;\n",
       "    }\n",
       "</style>\n",
       "<table border=\"1\" class=\"dataframe\">\n",
       "  <thead>\n",
       "    <tr style=\"text-align: right;\">\n",
       "      <th></th>\n",
       "      <th>Id</th>\n",
       "      <th>groupId</th>\n",
       "      <th>matchId</th>\n",
       "      <th>assists</th>\n",
       "      <th>boosts</th>\n",
       "      <th>damageDealt</th>\n",
       "      <th>DBNOs</th>\n",
       "      <th>headshotKills</th>\n",
       "      <th>heals</th>\n",
       "      <th>killPlace</th>\n",
       "      <th>...</th>\n",
       "      <th>teamKills</th>\n",
       "      <th>vehicleDestroys</th>\n",
       "      <th>walkDistance</th>\n",
       "      <th>weaponsAcquired</th>\n",
       "      <th>winPoints</th>\n",
       "      <th>winPlacePerc</th>\n",
       "      <th>playersJoined</th>\n",
       "      <th>killsNorm</th>\n",
       "      <th>damageDealtNorm</th>\n",
       "      <th>maxPlaceNorm</th>\n",
       "    </tr>\n",
       "  </thead>\n",
       "  <tbody>\n",
       "    <tr>\n",
       "      <th>1981117</th>\n",
       "      <td>5887056756028409</td>\n",
       "      <td>35383659749828605</td>\n",
       "      <td>13492780636643902</td>\n",
       "      <td>0</td>\n",
       "      <td>0</td>\n",
       "      <td>251.50</td>\n",
       "      <td>2</td>\n",
       "      <td>0</td>\n",
       "      <td>0</td>\n",
       "      <td>35</td>\n",
       "      <td>...</td>\n",
       "      <td>0</td>\n",
       "      <td>0</td>\n",
       "      <td>111.0</td>\n",
       "      <td>2</td>\n",
       "      <td>1656</td>\n",
       "      <td>0.1852</td>\n",
       "      <td>92</td>\n",
       "      <td>1.08</td>\n",
       "      <td>271.6200</td>\n",
       "      <td>30.24</td>\n",
       "    </tr>\n",
       "    <tr>\n",
       "      <th>2068597</th>\n",
       "      <td>22097650090541178</td>\n",
       "      <td>21717888397608285</td>\n",
       "      <td>68678329019572552</td>\n",
       "      <td>0</td>\n",
       "      <td>2</td>\n",
       "      <td>320.00</td>\n",
       "      <td>4</td>\n",
       "      <td>0</td>\n",
       "      <td>2</td>\n",
       "      <td>20</td>\n",
       "      <td>...</td>\n",
       "      <td>0</td>\n",
       "      <td>0</td>\n",
       "      <td>959.6</td>\n",
       "      <td>7</td>\n",
       "      <td>0</td>\n",
       "      <td>0.4074</td>\n",
       "      <td>96</td>\n",
       "      <td>2.08</td>\n",
       "      <td>332.8000</td>\n",
       "      <td>29.12</td>\n",
       "    </tr>\n",
       "    <tr>\n",
       "      <th>397627</th>\n",
       "      <td>63190309067454694</td>\n",
       "      <td>60884390273842220</td>\n",
       "      <td>63255699697520731</td>\n",
       "      <td>0</td>\n",
       "      <td>1</td>\n",
       "      <td>0.00</td>\n",
       "      <td>0</td>\n",
       "      <td>0</td>\n",
       "      <td>0</td>\n",
       "      <td>59</td>\n",
       "      <td>...</td>\n",
       "      <td>0</td>\n",
       "      <td>0</td>\n",
       "      <td>430.0</td>\n",
       "      <td>5</td>\n",
       "      <td>0</td>\n",
       "      <td>0.5000</td>\n",
       "      <td>98</td>\n",
       "      <td>0.00</td>\n",
       "      <td>0.0000</td>\n",
       "      <td>27.54</td>\n",
       "    </tr>\n",
       "    <tr>\n",
       "      <th>1947783</th>\n",
       "      <td>2978679697640915</td>\n",
       "      <td>24549235125563997</td>\n",
       "      <td>55663622350125375</td>\n",
       "      <td>0</td>\n",
       "      <td>0</td>\n",
       "      <td>95.16</td>\n",
       "      <td>0</td>\n",
       "      <td>0</td>\n",
       "      <td>0</td>\n",
       "      <td>42</td>\n",
       "      <td>...</td>\n",
       "      <td>0</td>\n",
       "      <td>0</td>\n",
       "      <td>2024.0</td>\n",
       "      <td>9</td>\n",
       "      <td>0</td>\n",
       "      <td>0.8667</td>\n",
       "      <td>91</td>\n",
       "      <td>0.00</td>\n",
       "      <td>103.7244</td>\n",
       "      <td>50.14</td>\n",
       "    </tr>\n",
       "    <tr>\n",
       "      <th>460933</th>\n",
       "      <td>34601890870789031</td>\n",
       "      <td>67509994436052565</td>\n",
       "      <td>43144151795316721</td>\n",
       "      <td>0</td>\n",
       "      <td>0</td>\n",
       "      <td>0.00</td>\n",
       "      <td>0</td>\n",
       "      <td>0</td>\n",
       "      <td>0</td>\n",
       "      <td>58</td>\n",
       "      <td>...</td>\n",
       "      <td>0</td>\n",
       "      <td>0</td>\n",
       "      <td>2258.0</td>\n",
       "      <td>7</td>\n",
       "      <td>1510</td>\n",
       "      <td>0.6333</td>\n",
       "      <td>100</td>\n",
       "      <td>0.00</td>\n",
       "      <td>0.0000</td>\n",
       "      <td>31.00</td>\n",
       "    </tr>\n",
       "  </tbody>\n",
       "</table>\n",
       "<p>5 rows × 32 columns</p>\n",
       "</div>"
      ],
      "text/plain": [
       "                        Id            groupId            matchId  assists  \\\n",
       "1981117   5887056756028409  35383659749828605  13492780636643902        0   \n",
       "2068597  22097650090541178  21717888397608285  68678329019572552        0   \n",
       "397627   63190309067454694  60884390273842220  63255699697520731        0   \n",
       "1947783   2978679697640915  24549235125563997  55663622350125375        0   \n",
       "460933   34601890870789031  67509994436052565  43144151795316721        0   \n",
       "\n",
       "         boosts  damageDealt  DBNOs  headshotKills  heals  killPlace  \\\n",
       "1981117       0       251.50      2              0      0         35   \n",
       "2068597       2       320.00      4              0      2         20   \n",
       "397627        1         0.00      0              0      0         59   \n",
       "1947783       0        95.16      0              0      0         42   \n",
       "460933        0         0.00      0              0      0         58   \n",
       "\n",
       "             ...       teamKills  vehicleDestroys  walkDistance  \\\n",
       "1981117      ...               0                0         111.0   \n",
       "2068597      ...               0                0         959.6   \n",
       "397627       ...               0                0         430.0   \n",
       "1947783      ...               0                0        2024.0   \n",
       "460933       ...               0                0        2258.0   \n",
       "\n",
       "         weaponsAcquired  winPoints  winPlacePerc  playersJoined  killsNorm  \\\n",
       "1981117                2       1656        0.1852             92       1.08   \n",
       "2068597                7          0        0.4074             96       2.08   \n",
       "397627                 5          0        0.5000             98       0.00   \n",
       "1947783                9          0        0.8667             91       0.00   \n",
       "460933                 7       1510        0.6333            100       0.00   \n",
       "\n",
       "         damageDealtNorm  maxPlaceNorm  \n",
       "1981117         271.6200         30.24  \n",
       "2068597         332.8000         29.12  \n",
       "397627            0.0000         27.54  \n",
       "1947783         103.7244         50.14  \n",
       "460933            0.0000         31.00  \n",
       "\n",
       "[5 rows x 32 columns]"
      ]
     },
     "execution_count": 8,
     "metadata": {},
     "output_type": "execute_result"
    }
   ],
   "source": [
    "x_train.head()"
   ]
  },
  {
   "cell_type": "code",
   "execution_count": 9,
   "metadata": {},
   "outputs": [
    {
     "name": "stdout",
     "output_type": "stream",
     "text": [
      "Index(['Id', 'groupId', 'matchId', 'assists', 'boosts', 'damageDealt', 'DBNOs',\n",
      "       'headshotKills', 'heals', 'killPlace', 'killPoints', 'kills',\n",
      "       'killStreaks', 'longestKill', 'matchDuration', 'maxPlace', 'numGroups',\n",
      "       'rankPoints', 'revives', 'rideDistance', 'roadKills', 'swimDistance',\n",
      "       'teamKills', 'vehicleDestroys', 'walkDistance', 'weaponsAcquired',\n",
      "       'winPoints', 'winPlacePerc', 'playersJoined', 'killsNorm',\n",
      "       'damageDealtNorm', 'maxPlaceNorm', 'matchDurationNorm'],\n",
      "      dtype='object')\n"
     ]
    }
   ],
   "source": [
    "print(trainset.columns)"
   ]
  },
  {
   "cell_type": "code",
   "execution_count": 10,
   "metadata": {
    "scrolled": true
   },
   "outputs": [],
   "source": [
    "trainset_dmatrix = xgb.DMatrix(x_train.values,label=y_train.values)\n",
    "valset_dmatrix = xgb.DMatrix(x_val.values,label=y_val.values)"
   ]
  },
  {
   "cell_type": "code",
   "execution_count": 11,
   "metadata": {},
   "outputs": [],
   "source": [
    "params = {\n",
    "    \"max_depth\" : 10,\n",
    "    \"eval_metric\" : [\"mae\"],\n",
    "}"
   ]
  },
  {
   "cell_type": "code",
   "execution_count": null,
   "metadata": {
    "scrolled": true
   },
   "outputs": [
    {
     "name": "stdout",
     "output_type": "stream",
     "text": [
      "[13:34:24] C:\\Users\\Administrator\\Desktop\\xgboost\\src\\tree\\updater_prune.cc:74: tree pruning end, 1 roots, 62 extra nodes, 0 pruned nodes, max_depth=5\n",
      "[0]\ttrain-mae:0.188647\tval-mae:0.188373\n",
      "[13:34:31] C:\\Users\\Administrator\\Desktop\\xgboost\\src\\tree\\updater_prune.cc:74: tree pruning end, 1 roots, 62 extra nodes, 0 pruned nodes, max_depth=5\n",
      "[1]\ttrain-mae:0.132134\tval-mae:0.131942\n",
      "[13:34:38] C:\\Users\\Administrator\\Desktop\\xgboost\\src\\tree\\updater_prune.cc:74: tree pruning end, 1 roots, 62 extra nodes, 0 pruned nodes, max_depth=5\n",
      "[2]\ttrain-mae:0.0925\tval-mae:0.092365\n",
      "[13:34:45] C:\\Users\\Administrator\\Desktop\\xgboost\\src\\tree\\updater_prune.cc:74: tree pruning end, 1 roots, 62 extra nodes, 0 pruned nodes, max_depth=5\n",
      "[3]\ttrain-mae:0.064759\tval-mae:0.064666\n",
      "[13:34:52] C:\\Users\\Administrator\\Desktop\\xgboost\\src\\tree\\updater_prune.cc:74: tree pruning end, 1 roots, 62 extra nodes, 0 pruned nodes, max_depth=5\n",
      "[4]\ttrain-mae:0.045336\tval-mae:0.04527\n",
      "[13:35:00] C:\\Users\\Administrator\\Desktop\\xgboost\\src\\tree\\updater_prune.cc:74: tree pruning end, 1 roots, 62 extra nodes, 0 pruned nodes, max_depth=5\n",
      "[5]\ttrain-mae:0.031744\tval-mae:0.031698\n",
      "[13:35:08] C:\\Users\\Administrator\\Desktop\\xgboost\\src\\tree\\updater_prune.cc:74: tree pruning end, 1 roots, 62 extra nodes, 0 pruned nodes, max_depth=5\n",
      "[6]\ttrain-mae:0.022234\tval-mae:0.022201\n",
      "[13:35:15] C:\\Users\\Administrator\\Desktop\\xgboost\\src\\tree\\updater_prune.cc:74: tree pruning end, 1 roots, 62 extra nodes, 0 pruned nodes, max_depth=5\n",
      "[7]\ttrain-mae:0.01558\tval-mae:0.015557\n",
      "[13:35:23] C:\\Users\\Administrator\\Desktop\\xgboost\\src\\tree\\updater_prune.cc:74: tree pruning end, 1 roots, 62 extra nodes, 0 pruned nodes, max_depth=5\n",
      "[8]\ttrain-mae:0.010935\tval-mae:0.010919\n",
      "[13:35:30] C:\\Users\\Administrator\\Desktop\\xgboost\\src\\tree\\updater_prune.cc:74: tree pruning end, 1 roots, 62 extra nodes, 0 pruned nodes, max_depth=5\n",
      "[9]\ttrain-mae:0.00769\tval-mae:0.007679\n",
      "[13:35:36] C:\\Users\\Administrator\\Desktop\\xgboost\\src\\tree\\updater_prune.cc:74: tree pruning end, 1 roots, 62 extra nodes, 0 pruned nodes, max_depth=5\n",
      "[10]\ttrain-mae:0.005433\tval-mae:0.005425\n",
      "[13:35:43] C:\\Users\\Administrator\\Desktop\\xgboost\\src\\tree\\updater_prune.cc:74: tree pruning end, 1 roots, 62 extra nodes, 0 pruned nodes, max_depth=5\n",
      "[11]\ttrain-mae:0.003866\tval-mae:0.003861\n",
      "[13:35:50] C:\\Users\\Administrator\\Desktop\\xgboost\\src\\tree\\updater_prune.cc:74: tree pruning end, 1 roots, 62 extra nodes, 0 pruned nodes, max_depth=5\n",
      "[12]\ttrain-mae:0.002794\tval-mae:0.002791\n",
      "[13:35:57] C:\\Users\\Administrator\\Desktop\\xgboost\\src\\tree\\updater_prune.cc:74: tree pruning end, 1 roots, 62 extra nodes, 0 pruned nodes, max_depth=5\n",
      "[13]\ttrain-mae:0.002063\tval-mae:0.002061\n",
      "[13:36:04] C:\\Users\\Administrator\\Desktop\\xgboost\\src\\tree\\updater_prune.cc:74: tree pruning end, 1 roots, 62 extra nodes, 0 pruned nodes, max_depth=5\n",
      "[14]\ttrain-mae:0.00157\tval-mae:0.001569\n",
      "[13:36:11] C:\\Users\\Administrator\\Desktop\\xgboost\\src\\tree\\updater_prune.cc:74: tree pruning end, 1 roots, 62 extra nodes, 0 pruned nodes, max_depth=5\n",
      "[15]\ttrain-mae:0.00124\tval-mae:0.001239\n",
      "[13:36:18] C:\\Users\\Administrator\\Desktop\\xgboost\\src\\tree\\updater_prune.cc:74: tree pruning end, 1 roots, 62 extra nodes, 0 pruned nodes, max_depth=5\n",
      "[16]\ttrain-mae:0.001026\tval-mae:0.001026\n",
      "[13:36:25] C:\\Users\\Administrator\\Desktop\\xgboost\\src\\tree\\updater_prune.cc:74: tree pruning end, 1 roots, 62 extra nodes, 0 pruned nodes, max_depth=5\n",
      "[17]\ttrain-mae:0.000887\tval-mae:0.000887\n",
      "[13:36:32] C:\\Users\\Administrator\\Desktop\\xgboost\\src\\tree\\updater_prune.cc:74: tree pruning end, 1 roots, 62 extra nodes, 0 pruned nodes, max_depth=5\n",
      "[18]\ttrain-mae:0.000805\tval-mae:0.000806\n",
      "[13:36:39] C:\\Users\\Administrator\\Desktop\\xgboost\\src\\tree\\updater_prune.cc:74: tree pruning end, 1 roots, 62 extra nodes, 0 pruned nodes, max_depth=5\n",
      "[19]\ttrain-mae:0.000751\tval-mae:0.000751\n",
      "[13:36:47] C:\\Users\\Administrator\\Desktop\\xgboost\\src\\tree\\updater_prune.cc:74: tree pruning end, 1 roots, 58 extra nodes, 0 pruned nodes, max_depth=5\n",
      "[20]\ttrain-mae:0.000709\tval-mae:0.000709\n",
      "[13:36:54] C:\\Users\\Administrator\\Desktop\\xgboost\\src\\tree\\updater_prune.cc:74: tree pruning end, 1 roots, 54 extra nodes, 0 pruned nodes, max_depth=5\n",
      "[21]\ttrain-mae:0.000677\tval-mae:0.000678\n",
      "[13:37:01] C:\\Users\\Administrator\\Desktop\\xgboost\\src\\tree\\updater_prune.cc:74: tree pruning end, 1 roots, 58 extra nodes, 0 pruned nodes, max_depth=5\n",
      "[22]\ttrain-mae:0.000658\tval-mae:0.000658\n",
      "[13:37:08] C:\\Users\\Administrator\\Desktop\\xgboost\\src\\tree\\updater_prune.cc:74: tree pruning end, 1 roots, 62 extra nodes, 0 pruned nodes, max_depth=5\n",
      "[23]\ttrain-mae:0.000644\tval-mae:0.000645\n",
      "[13:37:15] C:\\Users\\Administrator\\Desktop\\xgboost\\src\\tree\\updater_prune.cc:74: tree pruning end, 1 roots, 58 extra nodes, 0 pruned nodes, max_depth=5\n",
      "[24]\ttrain-mae:0.000633\tval-mae:0.000633\n",
      "[13:37:22] C:\\Users\\Administrator\\Desktop\\xgboost\\src\\tree\\updater_prune.cc:74: tree pruning end, 1 roots, 48 extra nodes, 0 pruned nodes, max_depth=5\n",
      "[25]\ttrain-mae:0.000623\tval-mae:0.000623\n",
      "[13:37:29] C:\\Users\\Administrator\\Desktop\\xgboost\\src\\tree\\updater_prune.cc:74: tree pruning end, 1 roots, 62 extra nodes, 0 pruned nodes, max_depth=5\n",
      "[26]\ttrain-mae:0.000614\tval-mae:0.000614\n",
      "[13:37:36] C:\\Users\\Administrator\\Desktop\\xgboost\\src\\tree\\updater_prune.cc:74: tree pruning end, 1 roots, 50 extra nodes, 0 pruned nodes, max_depth=5\n",
      "[27]\ttrain-mae:0.000606\tval-mae:0.000606\n"
     ]
    }
   ],
   "source": [
    "clf = xgb.train(params, trainset_dmatrix, evals=[(trainset_dmatrix, \"train\"),(valset_dmatrix, 'val')], num_boost_round = 100)\n",
    "\n",
    "predictions = xgb.predict(valset_dmatrix)"
   ]
  },
  {
   "cell_type": "code",
   "execution_count": null,
   "metadata": {},
   "outputs": [],
   "source": []
  }
 ],
 "metadata": {
  "kernelspec": {
   "display_name": "Python 3",
   "language": "python",
   "name": "python3"
  },
  "language_info": {
   "codemirror_mode": {
    "name": "ipython",
    "version": 3
   },
   "file_extension": ".py",
   "mimetype": "text/x-python",
   "name": "python",
   "nbconvert_exporter": "python",
   "pygments_lexer": "ipython3",
   "version": "3.6.5"
  }
 },
 "nbformat": 4,
 "nbformat_minor": 2
}
