{
 "cells": [
  {
   "cell_type": "code",
   "execution_count": 22,
   "metadata": {},
   "outputs": [],
   "source": [
    "# For compatibility across multiple platforms\n",
    "import os\n",
    "import numpy as np\n",
    "import pandas as pd\n",
    "from scipy import spatial\n",
    "\n",
    "\n",
    "# Load files using DictReader in Python\n",
    "import xgboost as xgb\n",
    "from sklearn.neighbors import KNeighborsClassifier\n",
    "from sklearn.tree import DecisionTreeClassifier\n",
    "from sklearn.ensemble import RandomForestClassifier\n",
    "from sklearn.naive_bayes import GaussianNB\n",
    "from sklearn.model_selection import train_test_split\n",
    "from sklearn import cluster\n",
    "from sklearn import preprocessing\n",
    "from sklearn.model_selection import KFold\n",
    "import sklearn\n",
    "\n",
    "from fastai.imports import *\n",
    "from fastai.structured import *"
   ]
  },
  {
   "cell_type": "code",
   "execution_count": 23,
   "metadata": {
    "scrolled": true
   },
   "outputs": [],
   "source": [
    "train_filepath = \"pubg-finish-placement-prediction/train_V2_clean.csv\"\n",
    "\n",
    "#trainset_file = open(train_filepath,'rU')\n",
    "trainset = pd.read_csv(train_filepath,index_col=0)\n"
   ]
  },
  {
   "cell_type": "code",
   "execution_count": 24,
   "metadata": {},
   "outputs": [
    {
     "name": "stdout",
     "output_type": "stream",
     "text": [
      "4446965\n"
     ]
    }
   ],
   "source": [
    "print(len(trainset))"
   ]
  },
  {
   "cell_type": "markdown",
   "metadata": {},
   "source": [
    "## Remove Matchtype"
   ]
  },
  {
   "cell_type": "code",
   "execution_count": 4,
   "metadata": {},
   "outputs": [],
   "source": [
    "trainset = trainset.drop([\"matchType\"],axis=1)"
   ]
  },
  {
   "cell_type": "code",
   "execution_count": 25,
   "metadata": {},
   "outputs": [],
   "source": [
    "moddedTrain = trainset"
   ]
  },
  {
   "cell_type": "markdown",
   "metadata": {},
   "source": [
    "# Normalization and feature engineering"
   ]
  },
  {
   "cell_type": "markdown",
   "metadata": {},
   "source": [
    "Add a feature for the number of players joined"
   ]
  },
  {
   "cell_type": "code",
   "execution_count": 26,
   "metadata": {},
   "outputs": [],
   "source": [
    "moddedTrain['playersJoined'] = moddedTrain.groupby('matchId')['matchId'].transform('count')\n",
    "moddedTrain['killsNorm'] = moddedTrain['kills']*((100-moddedTrain['playersJoined'])/100 + 1)\n",
    "moddedTrain['damageDealtNorm'] = moddedTrain['damageDealt']*((100-moddedTrain['playersJoined'])/100 + 1)\n",
    "moddedTrain['maxPlaceNorm'] = moddedTrain['maxPlace']*((100-moddedTrain['playersJoined'])/100 + 1)\n",
    "moddedTrain['matchDurationNorm'] = moddedTrain['matchDuration']*((100-moddedTrain['playersJoined'])/100 + 1)"
   ]
  },
  {
   "cell_type": "code",
   "execution_count": 27,
   "metadata": {},
   "outputs": [],
   "source": [
    "moddedTrain['healsandboosts'] = moddedTrain['heals'] + moddedTrain['boosts']"
   ]
  },
  {
   "cell_type": "code",
   "execution_count": 28,
   "metadata": {},
   "outputs": [],
   "source": [
    "moddedTrain['totalDistance'] = moddedTrain['rideDistance'] + moddedTrain['walkDistance'] + moddedTrain['swimDistance']\n",
    "moddedTrain['killsWithoutMoving'] = ((moddedTrain['kills'] > 0) & (moddedTrain['totalDistance'] == 0))"
   ]
  },
  {
   "cell_type": "code",
   "execution_count": 29,
   "metadata": {},
   "outputs": [],
   "source": [
    "moddedTrain['headshot_rate'] = moddedTrain['headshotKills'] / moddedTrain['kills']\n",
    "moddedTrain['headshot_rate'] = moddedTrain['headshot_rate'].fillna(0)"
   ]
  },
  {
   "cell_type": "code",
   "execution_count": 30,
   "metadata": {},
   "outputs": [],
   "source": [
    "moddedTrain.drop(moddedTrain[moddedTrain['killsWithoutMoving'] == True].index, inplace=True)\n",
    "moddedTrain.drop(moddedTrain[moddedTrain['roadKills'] > 8].index, inplace=True)"
   ]
  },
  {
   "cell_type": "code",
   "execution_count": 31,
   "metadata": {},
   "outputs": [],
   "source": [
    "# moddedTrain['killPlace_over_maxPlace'] = moddedTrain['killPlace'] / moddedTrain['maxPlace']\n",
    "# moddedTrain['killPlace_over_maxPlace'].fillna(0, inplace=True)\n",
    "# moddedTrain['killPlace_over_maxPlace'].replace(np.inf, 0, inplace=True)"
   ]
  },
  {
   "cell_type": "code",
   "execution_count": 34,
   "metadata": {},
   "outputs": [],
   "source": [
    "moddedTrain = pd.get_dummies(moddedTrain, columns=['matchType'])"
   ]
  },
  {
   "cell_type": "code",
   "execution_count": 35,
   "metadata": {},
   "outputs": [
    {
     "data": {
      "text/html": [
       "<div>\n",
       "<style scoped>\n",
       "    .dataframe tbody tr th:only-of-type {\n",
       "        vertical-align: middle;\n",
       "    }\n",
       "\n",
       "    .dataframe tbody tr th {\n",
       "        vertical-align: top;\n",
       "    }\n",
       "\n",
       "    .dataframe thead th {\n",
       "        text-align: right;\n",
       "    }\n",
       "</style>\n",
       "<table border=\"1\" class=\"dataframe\">\n",
       "  <thead>\n",
       "    <tr style=\"text-align: right;\">\n",
       "      <th></th>\n",
       "      <th>matchType_crashfpp</th>\n",
       "      <th>matchType_crashtpp</th>\n",
       "      <th>matchType_duo</th>\n",
       "      <th>matchType_duo-fpp</th>\n",
       "      <th>matchType_flarefpp</th>\n",
       "      <th>matchType_flaretpp</th>\n",
       "      <th>matchType_normal-duo</th>\n",
       "      <th>matchType_normal-duo-fpp</th>\n",
       "      <th>matchType_normal-solo</th>\n",
       "      <th>matchType_normal-solo-fpp</th>\n",
       "      <th>matchType_normal-squad</th>\n",
       "      <th>matchType_normal-squad-fpp</th>\n",
       "      <th>matchType_solo</th>\n",
       "      <th>matchType_solo-fpp</th>\n",
       "      <th>matchType_squad</th>\n",
       "      <th>matchType_squad-fpp</th>\n",
       "    </tr>\n",
       "  </thead>\n",
       "  <tbody>\n",
       "    <tr>\n",
       "      <th>0</th>\n",
       "      <td>0</td>\n",
       "      <td>0</td>\n",
       "      <td>0</td>\n",
       "      <td>0</td>\n",
       "      <td>0</td>\n",
       "      <td>0</td>\n",
       "      <td>0</td>\n",
       "      <td>0</td>\n",
       "      <td>0</td>\n",
       "      <td>0</td>\n",
       "      <td>0</td>\n",
       "      <td>0</td>\n",
       "      <td>0</td>\n",
       "      <td>0</td>\n",
       "      <td>0</td>\n",
       "      <td>1</td>\n",
       "    </tr>\n",
       "    <tr>\n",
       "      <th>1</th>\n",
       "      <td>0</td>\n",
       "      <td>0</td>\n",
       "      <td>0</td>\n",
       "      <td>0</td>\n",
       "      <td>0</td>\n",
       "      <td>0</td>\n",
       "      <td>0</td>\n",
       "      <td>0</td>\n",
       "      <td>0</td>\n",
       "      <td>0</td>\n",
       "      <td>0</td>\n",
       "      <td>0</td>\n",
       "      <td>0</td>\n",
       "      <td>0</td>\n",
       "      <td>0</td>\n",
       "      <td>1</td>\n",
       "    </tr>\n",
       "    <tr>\n",
       "      <th>2</th>\n",
       "      <td>0</td>\n",
       "      <td>0</td>\n",
       "      <td>1</td>\n",
       "      <td>0</td>\n",
       "      <td>0</td>\n",
       "      <td>0</td>\n",
       "      <td>0</td>\n",
       "      <td>0</td>\n",
       "      <td>0</td>\n",
       "      <td>0</td>\n",
       "      <td>0</td>\n",
       "      <td>0</td>\n",
       "      <td>0</td>\n",
       "      <td>0</td>\n",
       "      <td>0</td>\n",
       "      <td>0</td>\n",
       "    </tr>\n",
       "    <tr>\n",
       "      <th>3</th>\n",
       "      <td>0</td>\n",
       "      <td>0</td>\n",
       "      <td>0</td>\n",
       "      <td>0</td>\n",
       "      <td>0</td>\n",
       "      <td>0</td>\n",
       "      <td>0</td>\n",
       "      <td>0</td>\n",
       "      <td>0</td>\n",
       "      <td>0</td>\n",
       "      <td>0</td>\n",
       "      <td>0</td>\n",
       "      <td>0</td>\n",
       "      <td>0</td>\n",
       "      <td>0</td>\n",
       "      <td>1</td>\n",
       "    </tr>\n",
       "    <tr>\n",
       "      <th>4</th>\n",
       "      <td>0</td>\n",
       "      <td>0</td>\n",
       "      <td>0</td>\n",
       "      <td>0</td>\n",
       "      <td>0</td>\n",
       "      <td>0</td>\n",
       "      <td>0</td>\n",
       "      <td>0</td>\n",
       "      <td>0</td>\n",
       "      <td>0</td>\n",
       "      <td>0</td>\n",
       "      <td>0</td>\n",
       "      <td>0</td>\n",
       "      <td>1</td>\n",
       "      <td>0</td>\n",
       "      <td>0</td>\n",
       "    </tr>\n",
       "  </tbody>\n",
       "</table>\n",
       "</div>"
      ],
      "text/plain": [
       "   matchType_crashfpp  matchType_crashtpp  matchType_duo  matchType_duo-fpp  \\\n",
       "0                   0                   0              0                  0   \n",
       "1                   0                   0              0                  0   \n",
       "2                   0                   0              1                  0   \n",
       "3                   0                   0              0                  0   \n",
       "4                   0                   0              0                  0   \n",
       "\n",
       "   matchType_flarefpp  matchType_flaretpp  matchType_normal-duo  \\\n",
       "0                   0                   0                     0   \n",
       "1                   0                   0                     0   \n",
       "2                   0                   0                     0   \n",
       "3                   0                   0                     0   \n",
       "4                   0                   0                     0   \n",
       "\n",
       "   matchType_normal-duo-fpp  matchType_normal-solo  matchType_normal-solo-fpp  \\\n",
       "0                         0                      0                          0   \n",
       "1                         0                      0                          0   \n",
       "2                         0                      0                          0   \n",
       "3                         0                      0                          0   \n",
       "4                         0                      0                          0   \n",
       "\n",
       "   matchType_normal-squad  matchType_normal-squad-fpp  matchType_solo  \\\n",
       "0                       0                           0               0   \n",
       "1                       0                           0               0   \n",
       "2                       0                           0               0   \n",
       "3                       0                           0               0   \n",
       "4                       0                           0               0   \n",
       "\n",
       "   matchType_solo-fpp  matchType_squad  matchType_squad-fpp  \n",
       "0                   0                0                    1  \n",
       "1                   0                0                    1  \n",
       "2                   0                0                    0  \n",
       "3                   0                0                    1  \n",
       "4                   1                0                    0  "
      ]
     },
     "execution_count": 35,
     "metadata": {},
     "output_type": "execute_result"
    }
   ],
   "source": [
    "matchType_encoding = moddedTrain.filter(regex='matchType')\n",
    "matchType_encoding.head()"
   ]
  },
  {
   "cell_type": "markdown",
   "metadata": {},
   "source": [
    "# Train on XGBoost"
   ]
  },
  {
   "cell_type": "code",
   "execution_count": 36,
   "metadata": {},
   "outputs": [],
   "source": [
    "y = trainset[\"winPlacePerc\"]\n",
    "x = moddedTrain.drop(columns = ['winPlacePerc'])\n",
    "#x = trainset\n",
    "\n",
    "\n",
    "x_train, x_val, y_train, y_val = train_test_split(x, y, test_size=0.2)"
   ]
  },
  {
   "cell_type": "code",
   "execution_count": 37,
   "metadata": {},
   "outputs": [
    {
     "data": {
      "text/html": [
       "<div>\n",
       "<style scoped>\n",
       "    .dataframe tbody tr th:only-of-type {\n",
       "        vertical-align: middle;\n",
       "    }\n",
       "\n",
       "    .dataframe tbody tr th {\n",
       "        vertical-align: top;\n",
       "    }\n",
       "\n",
       "    .dataframe thead th {\n",
       "        text-align: right;\n",
       "    }\n",
       "</style>\n",
       "<table border=\"1\" class=\"dataframe\">\n",
       "  <thead>\n",
       "    <tr style=\"text-align: right;\">\n",
       "      <th></th>\n",
       "      <th>Id</th>\n",
       "      <th>groupId</th>\n",
       "      <th>matchId</th>\n",
       "      <th>assists</th>\n",
       "      <th>boosts</th>\n",
       "      <th>damageDealt</th>\n",
       "      <th>DBNOs</th>\n",
       "      <th>headshotKills</th>\n",
       "      <th>heals</th>\n",
       "      <th>killPlace</th>\n",
       "      <th>...</th>\n",
       "      <th>matchType_normal-duo</th>\n",
       "      <th>matchType_normal-duo-fpp</th>\n",
       "      <th>matchType_normal-solo</th>\n",
       "      <th>matchType_normal-solo-fpp</th>\n",
       "      <th>matchType_normal-squad</th>\n",
       "      <th>matchType_normal-squad-fpp</th>\n",
       "      <th>matchType_solo</th>\n",
       "      <th>matchType_solo-fpp</th>\n",
       "      <th>matchType_squad</th>\n",
       "      <th>matchType_squad-fpp</th>\n",
       "    </tr>\n",
       "  </thead>\n",
       "  <tbody>\n",
       "    <tr>\n",
       "      <th>3709879</th>\n",
       "      <td>58778296523824421</td>\n",
       "      <td>57552450899685228</td>\n",
       "      <td>50330766165524780</td>\n",
       "      <td>1</td>\n",
       "      <td>0</td>\n",
       "      <td>160.50</td>\n",
       "      <td>2</td>\n",
       "      <td>0</td>\n",
       "      <td>0</td>\n",
       "      <td>34</td>\n",
       "      <td>...</td>\n",
       "      <td>0</td>\n",
       "      <td>0</td>\n",
       "      <td>0</td>\n",
       "      <td>0</td>\n",
       "      <td>0</td>\n",
       "      <td>0</td>\n",
       "      <td>0</td>\n",
       "      <td>0</td>\n",
       "      <td>0</td>\n",
       "      <td>1</td>\n",
       "    </tr>\n",
       "    <tr>\n",
       "      <th>2976726</th>\n",
       "      <td>59645058070396722</td>\n",
       "      <td>67917498821870333</td>\n",
       "      <td>62270442454551656</td>\n",
       "      <td>0</td>\n",
       "      <td>2</td>\n",
       "      <td>211.70</td>\n",
       "      <td>1</td>\n",
       "      <td>0</td>\n",
       "      <td>3</td>\n",
       "      <td>30</td>\n",
       "      <td>...</td>\n",
       "      <td>0</td>\n",
       "      <td>0</td>\n",
       "      <td>0</td>\n",
       "      <td>0</td>\n",
       "      <td>0</td>\n",
       "      <td>0</td>\n",
       "      <td>0</td>\n",
       "      <td>0</td>\n",
       "      <td>0</td>\n",
       "      <td>1</td>\n",
       "    </tr>\n",
       "    <tr>\n",
       "      <th>1480965</th>\n",
       "      <td>45179920714392169</td>\n",
       "      <td>51560932637547329</td>\n",
       "      <td>15499807132753007</td>\n",
       "      <td>0</td>\n",
       "      <td>0</td>\n",
       "      <td>0.00</td>\n",
       "      <td>0</td>\n",
       "      <td>0</td>\n",
       "      <td>0</td>\n",
       "      <td>90</td>\n",
       "      <td>...</td>\n",
       "      <td>0</td>\n",
       "      <td>0</td>\n",
       "      <td>0</td>\n",
       "      <td>0</td>\n",
       "      <td>0</td>\n",
       "      <td>0</td>\n",
       "      <td>0</td>\n",
       "      <td>0</td>\n",
       "      <td>1</td>\n",
       "      <td>0</td>\n",
       "    </tr>\n",
       "    <tr>\n",
       "      <th>2364069</th>\n",
       "      <td>8170175247629326</td>\n",
       "      <td>18513762154846188</td>\n",
       "      <td>71837108627913102</td>\n",
       "      <td>0</td>\n",
       "      <td>0</td>\n",
       "      <td>79.45</td>\n",
       "      <td>0</td>\n",
       "      <td>0</td>\n",
       "      <td>0</td>\n",
       "      <td>66</td>\n",
       "      <td>...</td>\n",
       "      <td>0</td>\n",
       "      <td>0</td>\n",
       "      <td>0</td>\n",
       "      <td>0</td>\n",
       "      <td>0</td>\n",
       "      <td>0</td>\n",
       "      <td>0</td>\n",
       "      <td>0</td>\n",
       "      <td>0</td>\n",
       "      <td>0</td>\n",
       "    </tr>\n",
       "    <tr>\n",
       "      <th>446760</th>\n",
       "      <td>32705388938807401</td>\n",
       "      <td>64111424573105024</td>\n",
       "      <td>3085894303091897</td>\n",
       "      <td>2</td>\n",
       "      <td>2</td>\n",
       "      <td>529.50</td>\n",
       "      <td>5</td>\n",
       "      <td>1</td>\n",
       "      <td>2</td>\n",
       "      <td>6</td>\n",
       "      <td>...</td>\n",
       "      <td>0</td>\n",
       "      <td>0</td>\n",
       "      <td>0</td>\n",
       "      <td>0</td>\n",
       "      <td>0</td>\n",
       "      <td>0</td>\n",
       "      <td>0</td>\n",
       "      <td>0</td>\n",
       "      <td>0</td>\n",
       "      <td>1</td>\n",
       "    </tr>\n",
       "  </tbody>\n",
       "</table>\n",
       "<p>5 rows × 52 columns</p>\n",
       "</div>"
      ],
      "text/plain": [
       "                        Id            groupId            matchId  assists  \\\n",
       "3709879  58778296523824421  57552450899685228  50330766165524780        1   \n",
       "2976726  59645058070396722  67917498821870333  62270442454551656        0   \n",
       "1480965  45179920714392169  51560932637547329  15499807132753007        0   \n",
       "2364069   8170175247629326  18513762154846188  71837108627913102        0   \n",
       "446760   32705388938807401  64111424573105024   3085894303091897        2   \n",
       "\n",
       "         boosts  damageDealt  DBNOs  headshotKills  heals  killPlace  \\\n",
       "3709879       0       160.50      2              0      0         34   \n",
       "2976726       2       211.70      1              0      3         30   \n",
       "1480965       0         0.00      0              0      0         90   \n",
       "2364069       0        79.45      0              0      0         66   \n",
       "446760        2       529.50      5              1      2          6   \n",
       "\n",
       "                ...           matchType_normal-duo  matchType_normal-duo-fpp  \\\n",
       "3709879         ...                              0                         0   \n",
       "2976726         ...                              0                         0   \n",
       "1480965         ...                              0                         0   \n",
       "2364069         ...                              0                         0   \n",
       "446760          ...                              0                         0   \n",
       "\n",
       "         matchType_normal-solo  matchType_normal-solo-fpp  \\\n",
       "3709879                      0                          0   \n",
       "2976726                      0                          0   \n",
       "1480965                      0                          0   \n",
       "2364069                      0                          0   \n",
       "446760                       0                          0   \n",
       "\n",
       "         matchType_normal-squad  matchType_normal-squad-fpp  matchType_solo  \\\n",
       "3709879                       0                           0               0   \n",
       "2976726                       0                           0               0   \n",
       "1480965                       0                           0               0   \n",
       "2364069                       0                           0               0   \n",
       "446760                        0                           0               0   \n",
       "\n",
       "         matchType_solo-fpp  matchType_squad  matchType_squad-fpp  \n",
       "3709879                   0                0                    1  \n",
       "2976726                   0                0                    1  \n",
       "1480965                   0                1                    0  \n",
       "2364069                   0                0                    0  \n",
       "446760                    0                0                    1  \n",
       "\n",
       "[5 rows x 52 columns]"
      ]
     },
     "execution_count": 37,
     "metadata": {},
     "output_type": "execute_result"
    }
   ],
   "source": [
    "x_train.head()"
   ]
  },
  {
   "cell_type": "code",
   "execution_count": 38,
   "metadata": {},
   "outputs": [
    {
     "data": {
      "text/plain": [
       "3709879    0.5769\n",
       "2976726    0.6538\n",
       "1480965    0.0357\n",
       "2364069    0.3958\n",
       "446760     0.8929\n",
       "Name: winPlacePerc, dtype: float64"
      ]
     },
     "execution_count": 38,
     "metadata": {},
     "output_type": "execute_result"
    }
   ],
   "source": [
    "y_train.head()"
   ]
  },
  {
   "cell_type": "code",
   "execution_count": 39,
   "metadata": {
    "scrolled": true
   },
   "outputs": [],
   "source": [
    "trainset_dmatrix = xgb.DMatrix(x_train.values,label=y_train.values)\n",
    "valset_dmatrix = xgb.DMatrix(x_val.values,label=y_val.values)"
   ]
  },
  {
   "cell_type": "code",
   "execution_count": 43,
   "metadata": {},
   "outputs": [],
   "source": [
    "params = {\n",
    "    \"max_depth\" : 25,\n",
    "    \"eval_metric\" : [\"mae\"],\n",
    "    \"booster\" : \"dart\",\n",
    "}"
   ]
  },
  {
   "cell_type": "code",
   "execution_count": null,
   "metadata": {
    "scrolled": true
   },
   "outputs": [
    {
     "name": "stdout",
     "output_type": "stream",
     "text": [
      "[08:24:52] /workspace/src/tree/updater_prune.cc:74: tree pruning end, 1 roots, 566996 extra nodes, 0 pruned nodes, max_depth=25\n",
      "[08:24:52] /workspace/src/gbm/gbtree.cc:492: drop 0 trees, weight = 1\n",
      "[0]\ttrain-mae:0.191199\tval-mae:0.194797\n",
      "[08:25:25] /workspace/src/tree/updater_prune.cc:74: tree pruning end, 1 roots, 694258 extra nodes, 0 pruned nodes, max_depth=25\n",
      "[08:25:25] /workspace/src/gbm/gbtree.cc:492: drop 0 trees, weight = 1\n",
      "[1]\ttrain-mae:0.136782\tval-mae:0.14497\n",
      "[08:26:01] /workspace/src/tree/updater_prune.cc:74: tree pruning end, 1 roots, 830512 extra nodes, 0 pruned nodes, max_depth=25\n",
      "[08:26:01] /workspace/src/gbm/gbtree.cc:492: drop 0 trees, weight = 1\n",
      "[2]\ttrain-mae:0.098925\tval-mae:0.112349\n",
      "[08:26:38] /workspace/src/tree/updater_prune.cc:74: tree pruning end, 1 roots, 952202 extra nodes, 0 pruned nodes, max_depth=25\n",
      "[08:26:38] /workspace/src/gbm/gbtree.cc:492: drop 0 trees, weight = 1\n",
      "[3]\ttrain-mae:0.072544\tval-mae:0.091505\n",
      "[08:27:18] /workspace/src/tree/updater_prune.cc:74: tree pruning end, 1 roots, 1062062 extra nodes, 0 pruned nodes, max_depth=25\n",
      "[08:27:18] /workspace/src/gbm/gbtree.cc:492: drop 0 trees, weight = 1\n",
      "[4]\ttrain-mae:0.054149\tval-mae:0.078512\n",
      "[08:27:58] /workspace/src/tree/updater_prune.cc:74: tree pruning end, 1 roots, 1098294 extra nodes, 0 pruned nodes, max_depth=25\n",
      "[08:27:58] /workspace/src/gbm/gbtree.cc:492: drop 0 trees, weight = 1\n",
      "[5]\ttrain-mae:0.041376\tval-mae:0.070462\n",
      "[08:28:41] /workspace/src/tree/updater_prune.cc:74: tree pruning end, 1 roots, 1122522 extra nodes, 0 pruned nodes, max_depth=25\n",
      "[08:28:41] /workspace/src/gbm/gbtree.cc:492: drop 0 trees, weight = 1\n",
      "[6]\ttrain-mae:0.032449\tval-mae:0.06554\n",
      "[08:29:25] /workspace/src/tree/updater_prune.cc:74: tree pruning end, 1 roots, 1168814 extra nodes, 0 pruned nodes, max_depth=25\n",
      "[08:29:25] /workspace/src/gbm/gbtree.cc:492: drop 0 trees, weight = 1\n",
      "[7]\ttrain-mae:0.026082\tval-mae:0.06255\n",
      "[08:30:12] /workspace/src/tree/updater_prune.cc:74: tree pruning end, 1 roots, 1152384 extra nodes, 0 pruned nodes, max_depth=25\n",
      "[08:30:12] /workspace/src/gbm/gbtree.cc:492: drop 0 trees, weight = 1\n",
      "[8]\ttrain-mae:0.021534\tval-mae:0.06069\n",
      "[08:30:59] /workspace/src/tree/updater_prune.cc:74: tree pruning end, 1 roots, 1095832 extra nodes, 0 pruned nodes, max_depth=25\n",
      "[08:30:59] /workspace/src/gbm/gbtree.cc:492: drop 0 trees, weight = 1\n",
      "[9]\ttrain-mae:0.018276\tval-mae:0.059527\n",
      "[08:31:48] /workspace/src/tree/updater_prune.cc:74: tree pruning end, 1 roots, 1067416 extra nodes, 0 pruned nodes, max_depth=25\n",
      "[08:31:48] /workspace/src/gbm/gbtree.cc:492: drop 0 trees, weight = 1\n",
      "[10]\ttrain-mae:0.015854\tval-mae:0.058796\n",
      "[08:32:38] /workspace/src/tree/updater_prune.cc:74: tree pruning end, 1 roots, 994406 extra nodes, 0 pruned nodes, max_depth=25\n",
      "[08:32:38] /workspace/src/gbm/gbtree.cc:492: drop 0 trees, weight = 1\n",
      "[11]\ttrain-mae:0.014007\tval-mae:0.058326\n",
      "[08:33:28] /workspace/src/tree/updater_prune.cc:74: tree pruning end, 1 roots, 964040 extra nodes, 0 pruned nodes, max_depth=25\n",
      "[08:33:28] /workspace/src/gbm/gbtree.cc:492: drop 0 trees, weight = 1\n",
      "[12]\ttrain-mae:0.012553\tval-mae:0.057989\n",
      "[08:34:21] /workspace/src/tree/updater_prune.cc:74: tree pruning end, 1 roots, 878638 extra nodes, 0 pruned nodes, max_depth=25\n",
      "[08:34:21] /workspace/src/gbm/gbtree.cc:492: drop 0 trees, weight = 1\n",
      "[13]\ttrain-mae:0.011478\tval-mae:0.057771\n",
      "[08:35:14] /workspace/src/tree/updater_prune.cc:74: tree pruning end, 1 roots, 814700 extra nodes, 0 pruned nodes, max_depth=25\n",
      "[08:35:14] /workspace/src/gbm/gbtree.cc:492: drop 0 trees, weight = 1\n",
      "[14]\ttrain-mae:0.01057\tval-mae:0.057585\n",
      "[08:36:09] /workspace/src/tree/updater_prune.cc:74: tree pruning end, 1 roots, 731024 extra nodes, 0 pruned nodes, max_depth=25\n",
      "[08:36:09] /workspace/src/gbm/gbtree.cc:492: drop 0 trees, weight = 1\n",
      "[15]\ttrain-mae:0.009836\tval-mae:0.057486\n",
      "[08:37:05] /workspace/src/tree/updater_prune.cc:74: tree pruning end, 1 roots, 705524 extra nodes, 0 pruned nodes, max_depth=25\n",
      "[08:37:05] /workspace/src/gbm/gbtree.cc:492: drop 0 trees, weight = 1\n",
      "[16]\ttrain-mae:0.009176\tval-mae:0.057394\n",
      "[08:38:02] /workspace/src/tree/updater_prune.cc:74: tree pruning end, 1 roots, 645700 extra nodes, 0 pruned nodes, max_depth=25\n",
      "[08:38:02] /workspace/src/gbm/gbtree.cc:492: drop 0 trees, weight = 1\n",
      "[17]\ttrain-mae:0.008608\tval-mae:0.057316\n",
      "[08:39:00] /workspace/src/tree/updater_prune.cc:74: tree pruning end, 1 roots, 621924 extra nodes, 0 pruned nodes, max_depth=25\n",
      "[08:39:00] /workspace/src/gbm/gbtree.cc:492: drop 0 trees, weight = 1\n",
      "[18]\ttrain-mae:0.008126\tval-mae:0.057226\n",
      "[08:39:58] /workspace/src/tree/updater_prune.cc:74: tree pruning end, 1 roots, 515448 extra nodes, 0 pruned nodes, max_depth=25\n",
      "[08:39:58] /workspace/src/gbm/gbtree.cc:492: drop 0 trees, weight = 1\n",
      "[19]\ttrain-mae:0.007778\tval-mae:0.057199\n"
     ]
    }
   ],
   "source": [
    "clf = xgb.train(params, trainset_dmatrix, evals=[(trainset_dmatrix, \"train\"),(valset_dmatrix, 'val')], num_boost_round = 50)\n",
    "\n",
    "predictions = xgb.predict(valset_dmatrix)"
   ]
  },
  {
   "cell_type": "code",
   "execution_count": null,
   "metadata": {},
   "outputs": [],
   "source": [
    ".059016"
   ]
  },
  {
   "cell_type": "markdown",
   "metadata": {},
   "source": [
    "# Remove non-important features"
   ]
  },
  {
   "cell_type": "code",
   "execution_count": 18,
   "metadata": {},
   "outputs": [],
   "source": [
    "x = moddedTrain[['walkDistance','killPlace','kills','killsNorm','totalDistance','matchDurationNorm','playersJoined','numGroups','matchDuration','boosts','DBNOs','weaponsAcquired','assists','healsandboosts','maxPlaceNorm','killStreaks','longestKill','maxPlace','rankPoints']]\n",
    "\n",
    "x_train, x_val, y_train, y_val = train_test_split(x, y, test_size=0.2)"
   ]
  },
  {
   "cell_type": "code",
   "execution_count": 19,
   "metadata": {},
   "outputs": [],
   "source": [
    "trainset_dmatrix = xgb.DMatrix(x_train.values,label=y_train.values)\n",
    "valset_dmatrix = xgb.DMatrix(x_val.values,label=y_val.values)"
   ]
  },
  {
   "cell_type": "code",
   "execution_count": 20,
   "metadata": {},
   "outputs": [],
   "source": [
    "params = {\n",
    "    \"max_depth\" : 20,\n",
    "    \"eval_metric\" : [\"mae\"],\n",
    "}"
   ]
  },
  {
   "cell_type": "code",
   "execution_count": 21,
   "metadata": {},
   "outputs": [
    {
     "name": "stdout",
     "output_type": "stream",
     "text": [
      "[08:07:25] /workspace/src/tree/updater_prune.cc:74: tree pruning end, 1 roots, 225808 extra nodes, 0 pruned nodes, max_depth=20\n",
      "[0]\ttrain-mae:0.192669\tval-mae:0.194264\n",
      "[08:07:37] /workspace/src/tree/updater_prune.cc:74: tree pruning end, 1 roots, 271808 extra nodes, 0 pruned nodes, max_depth=20\n",
      "[1]\ttrain-mae:0.139951\tval-mae:0.143882\n",
      "[08:07:49] /workspace/src/tree/updater_prune.cc:74: tree pruning end, 1 roots, 317174 extra nodes, 0 pruned nodes, max_depth=20\n",
      "[2]\ttrain-mae:0.104155\tval-mae:0.110848\n",
      "[08:08:01] /workspace/src/tree/updater_prune.cc:74: tree pruning end, 1 roots, 348058 extra nodes, 0 pruned nodes, max_depth=20\n",
      "[3]\ttrain-mae:0.080209\tval-mae:0.089816\n",
      "[08:08:14] /workspace/src/tree/updater_prune.cc:74: tree pruning end, 1 roots, 372692 extra nodes, 0 pruned nodes, max_depth=20\n",
      "[4]\ttrain-mae:0.064277\tval-mae:0.07673\n",
      "[08:08:26] /workspace/src/tree/updater_prune.cc:74: tree pruning end, 1 roots, 368040 extra nodes, 0 pruned nodes, max_depth=20\n",
      "[5]\ttrain-mae:0.053773\tval-mae:0.068737\n",
      "[08:08:38] /workspace/src/tree/updater_prune.cc:74: tree pruning end, 1 roots, 366680 extra nodes, 0 pruned nodes, max_depth=20\n",
      "[6]\ttrain-mae:0.046782\tval-mae:0.06392\n",
      "[08:08:51] /workspace/src/tree/updater_prune.cc:74: tree pruning end, 1 roots, 345728 extra nodes, 0 pruned nodes, max_depth=20\n",
      "[7]\ttrain-mae:0.042136\tval-mae:0.061056\n",
      "[08:09:03] /workspace/src/tree/updater_prune.cc:74: tree pruning end, 1 roots, 329700 extra nodes, 0 pruned nodes, max_depth=20\n",
      "[8]\ttrain-mae:0.038889\tval-mae:0.059321\n",
      "[08:09:15] /workspace/src/tree/updater_prune.cc:74: tree pruning end, 1 roots, 317646 extra nodes, 0 pruned nodes, max_depth=20\n",
      "[9]\ttrain-mae:0.036562\tval-mae:0.058302\n",
      "[08:09:27] /workspace/src/tree/updater_prune.cc:74: tree pruning end, 1 roots, 276688 extra nodes, 0 pruned nodes, max_depth=20\n",
      "[10]\ttrain-mae:0.034913\tval-mae:0.057655\n",
      "[08:09:39] /workspace/src/tree/updater_prune.cc:74: tree pruning end, 1 roots, 258786 extra nodes, 0 pruned nodes, max_depth=20\n",
      "[11]\ttrain-mae:0.033616\tval-mae:0.057256\n",
      "[08:09:51] /workspace/src/tree/updater_prune.cc:74: tree pruning end, 1 roots, 225022 extra nodes, 0 pruned nodes, max_depth=20\n",
      "[12]\ttrain-mae:0.032573\tval-mae:0.056949\n",
      "[08:10:02] /workspace/src/tree/updater_prune.cc:74: tree pruning end, 1 roots, 215588 extra nodes, 0 pruned nodes, max_depth=20\n",
      "[13]\ttrain-mae:0.031699\tval-mae:0.056756\n",
      "[08:10:14] /workspace/src/tree/updater_prune.cc:74: tree pruning end, 1 roots, 196546 extra nodes, 0 pruned nodes, max_depth=20\n",
      "[14]\ttrain-mae:0.031005\tval-mae:0.056622\n",
      "[08:10:25] /workspace/src/tree/updater_prune.cc:74: tree pruning end, 1 roots, 170548 extra nodes, 0 pruned nodes, max_depth=20\n",
      "[15]\ttrain-mae:0.030359\tval-mae:0.056497\n",
      "[08:10:36] /workspace/src/tree/updater_prune.cc:74: tree pruning end, 1 roots, 165732 extra nodes, 0 pruned nodes, max_depth=20\n",
      "[16]\ttrain-mae:0.02979\tval-mae:0.056368\n",
      "[08:10:47] /workspace/src/tree/updater_prune.cc:74: tree pruning end, 1 roots, 135796 extra nodes, 0 pruned nodes, max_depth=20\n",
      "[17]\ttrain-mae:0.029257\tval-mae:0.056274\n",
      "[08:10:58] /workspace/src/tree/updater_prune.cc:74: tree pruning end, 1 roots, 141612 extra nodes, 0 pruned nodes, max_depth=20\n",
      "[18]\ttrain-mae:0.028817\tval-mae:0.056231\n",
      "[08:11:09] /workspace/src/tree/updater_prune.cc:74: tree pruning end, 1 roots, 138534 extra nodes, 0 pruned nodes, max_depth=20\n",
      "[19]\ttrain-mae:0.028384\tval-mae:0.056137\n"
     ]
    },
    {
     "ename": "AttributeError",
     "evalue": "module 'xgboost' has no attribute 'predict'",
     "output_type": "error",
     "traceback": [
      "\u001b[0;31m---------------------------------------------------------------------------\u001b[0m",
      "\u001b[0;31mAttributeError\u001b[0m                            Traceback (most recent call last)",
      "\u001b[0;32m<ipython-input-21-0fb197c34f2e>\u001b[0m in \u001b[0;36m<module>\u001b[0;34m\u001b[0m\n\u001b[1;32m      1\u001b[0m \u001b[0mclf\u001b[0m \u001b[0;34m=\u001b[0m \u001b[0mxgb\u001b[0m\u001b[0;34m.\u001b[0m\u001b[0mtrain\u001b[0m\u001b[0;34m(\u001b[0m\u001b[0mparams\u001b[0m\u001b[0;34m,\u001b[0m \u001b[0mtrainset_dmatrix\u001b[0m\u001b[0;34m,\u001b[0m \u001b[0mevals\u001b[0m\u001b[0;34m=\u001b[0m\u001b[0;34m[\u001b[0m\u001b[0;34m(\u001b[0m\u001b[0mtrainset_dmatrix\u001b[0m\u001b[0;34m,\u001b[0m \u001b[0;34m\"train\"\u001b[0m\u001b[0;34m)\u001b[0m\u001b[0;34m,\u001b[0m\u001b[0;34m(\u001b[0m\u001b[0mvalset_dmatrix\u001b[0m\u001b[0;34m,\u001b[0m \u001b[0;34m'val'\u001b[0m\u001b[0;34m)\u001b[0m\u001b[0;34m]\u001b[0m\u001b[0;34m,\u001b[0m \u001b[0mnum_boost_round\u001b[0m \u001b[0;34m=\u001b[0m \u001b[0;36m20\u001b[0m\u001b[0;34m)\u001b[0m\u001b[0;34m\u001b[0m\u001b[0m\n\u001b[1;32m      2\u001b[0m \u001b[0;34m\u001b[0m\u001b[0m\n\u001b[0;32m----> 3\u001b[0;31m \u001b[0mpredictions\u001b[0m \u001b[0;34m=\u001b[0m \u001b[0mxgb\u001b[0m\u001b[0;34m.\u001b[0m\u001b[0mpredict\u001b[0m\u001b[0;34m(\u001b[0m\u001b[0mvalset_dmatrix\u001b[0m\u001b[0;34m)\u001b[0m\u001b[0;34m\u001b[0m\u001b[0m\n\u001b[0m",
      "\u001b[0;31mAttributeError\u001b[0m: module 'xgboost' has no attribute 'predict'"
     ]
    }
   ],
   "source": [
    "clf = xgb.train(params, trainset_dmatrix, evals=[(trainset_dmatrix, \"train\"),(valset_dmatrix, 'val')], num_boost_round = 20)\n",
    "\n",
    "predictions = xgb.predict(valset_dmatrix)"
   ]
  },
  {
   "cell_type": "code",
   "execution_count": null,
   "metadata": {},
   "outputs": [],
   "source": []
  }
 ],
 "metadata": {
  "kernelspec": {
   "display_name": "Python 2",
   "language": "python",
   "name": "python2"
  },
  "language_info": {
   "codemirror_mode": {
    "name": "ipython",
    "version": 2
   },
   "file_extension": ".py",
   "mimetype": "text/x-python",
   "name": "python",
   "nbconvert_exporter": "python",
   "pygments_lexer": "ipython2",
   "version": "2.7.14"
  }
 },
 "nbformat": 4,
 "nbformat_minor": 2
}
