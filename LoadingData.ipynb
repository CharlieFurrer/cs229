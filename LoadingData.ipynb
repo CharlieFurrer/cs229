{
 "cells": [
  {
   "cell_type": "markdown",
   "metadata": {},
   "source": [
    "#### TSV files are essentially identical to CSV files except that TSV files use \"tabs (\\t)\" while CSV files use commas to store data in tabular structure. As a result, loading TSV files are slightly different from how we've been loading CSV files.\n",
    "##### Thanks to Clara Meister for providing this tutorial."
   ]
  },
  {
   "cell_type": "code",
   "execution_count": 1,
   "metadata": {},
   "outputs": [],
   "source": [
    "# For compatibility across multiple platforms\n",
    "import os\n",
    "IB = os.environ.get('INSTABASE_URI',None) is not None\n",
    "open = ib.open if IB else open"
   ]
  },
  {
   "cell_type": "code",
   "execution_count": 2,
   "metadata": {},
   "outputs": [
    {
     "name": "stdout",
     "output_type": "stream",
     "text": [
      "Done.\n"
     ]
    },
    {
     "data": {
      "text/plain": [
       "u'Persisted movies'"
      ]
     },
     "execution_count": 2,
     "metadata": {},
     "output_type": "execute_result"
    }
   ],
   "source": [
    "# Load tables from TSV files using SQL\n",
    "%load_ext sql\n",
    "import pandas as pd\n",
    "%sql sqlite://\n",
    "with open('movies.tsv','rU') as f:\n",
    "    Movies = pd.read_csv(f, sep='\\t', index_col=0, encoding='utf-8')\n",
    "%sql drop table if exists Movies;\n",
    "%sql persist Movies"
   ]
  },
  {
   "cell_type": "code",
   "execution_count": 3,
   "metadata": {},
   "outputs": [],
   "source": [
    "# Load files using Pandas\n",
    "f = open('movies.tsv','rU')\n",
    "movies = pd.read_csv(f, sep = '\\t')"
   ]
  },
  {
   "cell_type": "code",
   "execution_count": 4,
   "metadata": {},
   "outputs": [],
   "source": [
    "# Load files using DictReader in Python\n",
    "import csv\n",
    "movies = []\n",
    "with open('movies.tsv','rU') as f:\n",
    "    rows = csv.DictReader(f, delimiter='\\t')\n",
    "    for r in rows:\n",
    "        movies.append(r)"
   ]
  }
 ],
 "metadata": {
  "kernelspec": {
   "display_name": "Python 2",
   "language": "python",
   "name": "python2"
  },
  "language_info": {
   "codemirror_mode": {
    "name": "ipython",
    "version": 2
   },
   "file_extension": ".py",
   "mimetype": "text/x-python",
   "name": "python",
   "nbconvert_exporter": "python",
   "pygments_lexer": "ipython2",
   "version": "2.7.14"
  }
 },
 "nbformat": 4,
 "nbformat_minor": 2
}
