{
 "cells": [
  {
   "cell_type": "code",
   "execution_count": 1,
   "metadata": {},
   "outputs": [
    {
     "name": "stderr",
     "output_type": "stream",
     "text": [
      "/anaconda2/lib/python2.7/site-packages/h5py/__init__.py:36: FutureWarning: Conversion of the second argument of issubdtype from `float` to `np.floating` is deprecated. In future, it will be treated as `np.float64 == np.dtype(float).type`.\n",
      "  from ._conv import register_converters as _register_converters\n",
      "Using TensorFlow backend.\n"
     ]
    }
   ],
   "source": [
    "# For compatibility across multiple platforms\n",
    "import os\n",
    "import numpy as np\n",
    "import pandas as pd\n",
    "from scipy import spatial\n",
    "\n",
    "\n",
    "# Load files using DictReader in Python\n",
    "import matplotlib.pyplot as plt\n",
    "import xgboost as xgb\n",
    "from sklearn.neighbors import KNeighborsClassifier\n",
    "from sklearn.tree import DecisionTreeClassifier\n",
    "from sklearn.ensemble import RandomForestClassifier\n",
    "from sklearn.naive_bayes import GaussianNB\n",
    "from sklearn.model_selection import train_test_split\n",
    "from sklearn import cluster\n",
    "from sklearn import preprocessing\n",
    "from sklearn.model_selection import KFold\n",
    "import sklearn\n",
    "\n",
    "\n",
    "from ultimate.mlp import MLP \n",
    "\n",
    "from keras.models import Sequential\n",
    "from keras.layers import Dense\n",
    "from keras.callbacks import ModelCheckpoint"
   ]
  },
  {
   "cell_type": "code",
   "execution_count": 2,
   "metadata": {
    "scrolled": true
   },
   "outputs": [
    {
     "name": "stderr",
     "output_type": "stream",
     "text": [
      "/anaconda2/lib/python2.7/site-packages/numpy/lib/arraysetops.py:466: FutureWarning: elementwise comparison failed; returning scalar instead, but in the future will perform elementwise comparison\n",
      "  mask |= (ar1 == a)\n"
     ]
    }
   ],
   "source": [
    "train_filepath = \"pubg-finish-placement-prediction/train_V2_clean.csv\"\n",
    "\n",
    "#trainset_file = open(train_filepath,'rU')\n",
    "trainset = pd.read_csv(train_filepath,index_col=0)"
   ]
  },
  {
   "cell_type": "code",
   "execution_count": 3,
   "metadata": {},
   "outputs": [
    {
     "name": "stdout",
     "output_type": "stream",
     "text": [
      "4446965\n"
     ]
    }
   ],
   "source": [
    "print(len(trainset))"
   ]
  },
  {
   "cell_type": "code",
   "execution_count": 71,
   "metadata": {},
   "outputs": [],
   "source": [
    "x_train, x_val, y_train, y_val = train_test_split(trainset.drop([\"winPlacePerc\"],axis=1), trainset['winPlacePerc'], test_size=0.2)"
   ]
  },
  {
   "cell_type": "markdown",
   "metadata": {
    "scrolled": false
   },
   "source": [
    "# SET UP FOR MODEL ONE"
   ]
  },
  {
   "cell_type": "markdown",
   "metadata": {},
   "source": [
    "## Select the trainset features for tree one "
   ]
  },
  {
   "cell_type": "code",
   "execution_count": 79,
   "metadata": {},
   "outputs": [],
   "source": [
    "x_one = x_train.drop([\"matchType\"],axis=1)\n",
    "y_one = y_train\n",
    "\n",
    "x_one_val = x_val.drop([\"matchType\"],axis=1)\n",
    "y_one_val = y_val\n",
    "\n",
    "\n",
    "#set the dmatrix\n",
    "trainset_one_dmatrix = xgb.DMatrix(x_one.values,label=y_train.values,feature_names=x_one.columns)\n",
    "valset_one_dmatrix = xgb.DMatrix(x_one_val.values,label=y_one_val.values,feature_names=x_one_val.columns)"
   ]
  },
  {
   "cell_type": "code",
   "execution_count": 80,
   "metadata": {
    "scrolled": false
   },
   "outputs": [
    {
     "data": {
      "text/html": [
       "<div>\n",
       "<style scoped>\n",
       "    .dataframe tbody tr th:only-of-type {\n",
       "        vertical-align: middle;\n",
       "    }\n",
       "\n",
       "    .dataframe tbody tr th {\n",
       "        vertical-align: top;\n",
       "    }\n",
       "\n",
       "    .dataframe thead th {\n",
       "        text-align: right;\n",
       "    }\n",
       "</style>\n",
       "<table border=\"1\" class=\"dataframe\">\n",
       "  <thead>\n",
       "    <tr style=\"text-align: right;\">\n",
       "      <th></th>\n",
       "      <th>Id</th>\n",
       "      <th>groupId</th>\n",
       "      <th>matchId</th>\n",
       "      <th>assists</th>\n",
       "      <th>boosts</th>\n",
       "      <th>damageDealt</th>\n",
       "      <th>DBNOs</th>\n",
       "      <th>headshotKills</th>\n",
       "      <th>heals</th>\n",
       "      <th>killPlace</th>\n",
       "      <th>...</th>\n",
       "      <th>rankPoints</th>\n",
       "      <th>revives</th>\n",
       "      <th>rideDistance</th>\n",
       "      <th>roadKills</th>\n",
       "      <th>swimDistance</th>\n",
       "      <th>teamKills</th>\n",
       "      <th>vehicleDestroys</th>\n",
       "      <th>walkDistance</th>\n",
       "      <th>weaponsAcquired</th>\n",
       "      <th>winPoints</th>\n",
       "    </tr>\n",
       "  </thead>\n",
       "  <tbody>\n",
       "    <tr>\n",
       "      <th>4172735</th>\n",
       "      <td>55202530414479552</td>\n",
       "      <td>23244851251017601</td>\n",
       "      <td>2281280635605269</td>\n",
       "      <td>0</td>\n",
       "      <td>0</td>\n",
       "      <td>0.0</td>\n",
       "      <td>0</td>\n",
       "      <td>0</td>\n",
       "      <td>1</td>\n",
       "      <td>54</td>\n",
       "      <td>...</td>\n",
       "      <td>766</td>\n",
       "      <td>0</td>\n",
       "      <td>4214.0</td>\n",
       "      <td>0</td>\n",
       "      <td>0.0</td>\n",
       "      <td>0</td>\n",
       "      <td>0</td>\n",
       "      <td>1109.0</td>\n",
       "      <td>2</td>\n",
       "      <td>0</td>\n",
       "    </tr>\n",
       "    <tr>\n",
       "      <th>1831933</th>\n",
       "      <td>18404407779974953</td>\n",
       "      <td>32594066460848237</td>\n",
       "      <td>51301979541733202</td>\n",
       "      <td>0</td>\n",
       "      <td>0</td>\n",
       "      <td>200.0</td>\n",
       "      <td>1</td>\n",
       "      <td>0</td>\n",
       "      <td>0</td>\n",
       "      <td>23</td>\n",
       "      <td>...</td>\n",
       "      <td>-1</td>\n",
       "      <td>0</td>\n",
       "      <td>0.0</td>\n",
       "      <td>0</td>\n",
       "      <td>0.0</td>\n",
       "      <td>0</td>\n",
       "      <td>0</td>\n",
       "      <td>223.8</td>\n",
       "      <td>3</td>\n",
       "      <td>1432</td>\n",
       "    </tr>\n",
       "    <tr>\n",
       "      <th>2415420</th>\n",
       "      <td>16056817651982391</td>\n",
       "      <td>67744720358156656</td>\n",
       "      <td>39660794403574848</td>\n",
       "      <td>0</td>\n",
       "      <td>0</td>\n",
       "      <td>0.0</td>\n",
       "      <td>0</td>\n",
       "      <td>0</td>\n",
       "      <td>0</td>\n",
       "      <td>97</td>\n",
       "      <td>...</td>\n",
       "      <td>-1</td>\n",
       "      <td>0</td>\n",
       "      <td>0.0</td>\n",
       "      <td>0</td>\n",
       "      <td>0.0</td>\n",
       "      <td>0</td>\n",
       "      <td>0</td>\n",
       "      <td>31.3</td>\n",
       "      <td>2</td>\n",
       "      <td>1541</td>\n",
       "    </tr>\n",
       "    <tr>\n",
       "      <th>2139248</th>\n",
       "      <td>32761683198500757</td>\n",
       "      <td>39798885019393539</td>\n",
       "      <td>30294152563504822</td>\n",
       "      <td>0</td>\n",
       "      <td>0</td>\n",
       "      <td>177.7</td>\n",
       "      <td>0</td>\n",
       "      <td>0</td>\n",
       "      <td>0</td>\n",
       "      <td>36</td>\n",
       "      <td>...</td>\n",
       "      <td>-1</td>\n",
       "      <td>0</td>\n",
       "      <td>1064.0</td>\n",
       "      <td>0</td>\n",
       "      <td>0.0</td>\n",
       "      <td>0</td>\n",
       "      <td>0</td>\n",
       "      <td>1564.0</td>\n",
       "      <td>2</td>\n",
       "      <td>1484</td>\n",
       "    </tr>\n",
       "    <tr>\n",
       "      <th>3413216</th>\n",
       "      <td>32655051464584690</td>\n",
       "      <td>70285655167207183</td>\n",
       "      <td>59828282538295049</td>\n",
       "      <td>1</td>\n",
       "      <td>0</td>\n",
       "      <td>194.8</td>\n",
       "      <td>1</td>\n",
       "      <td>0</td>\n",
       "      <td>2</td>\n",
       "      <td>18</td>\n",
       "      <td>...</td>\n",
       "      <td>-1</td>\n",
       "      <td>0</td>\n",
       "      <td>139.6</td>\n",
       "      <td>0</td>\n",
       "      <td>0.0</td>\n",
       "      <td>0</td>\n",
       "      <td>0</td>\n",
       "      <td>775.2</td>\n",
       "      <td>9</td>\n",
       "      <td>1481</td>\n",
       "    </tr>\n",
       "  </tbody>\n",
       "</table>\n",
       "<p>5 rows × 27 columns</p>\n",
       "</div>"
      ],
      "text/plain": [
       "                        Id            groupId            matchId  assists  \\\n",
       "4172735  55202530414479552  23244851251017601   2281280635605269        0   \n",
       "1831933  18404407779974953  32594066460848237  51301979541733202        0   \n",
       "2415420  16056817651982391  67744720358156656  39660794403574848        0   \n",
       "2139248  32761683198500757  39798885019393539  30294152563504822        0   \n",
       "3413216  32655051464584690  70285655167207183  59828282538295049        1   \n",
       "\n",
       "         boosts  damageDealt  DBNOs  headshotKills  heals  killPlace  \\\n",
       "4172735       0          0.0      0              0      1         54   \n",
       "1831933       0        200.0      1              0      0         23   \n",
       "2415420       0          0.0      0              0      0         97   \n",
       "2139248       0        177.7      0              0      0         36   \n",
       "3413216       0        194.8      1              0      2         18   \n",
       "\n",
       "           ...      rankPoints  revives  rideDistance  roadKills  \\\n",
       "4172735    ...             766        0        4214.0          0   \n",
       "1831933    ...              -1        0           0.0          0   \n",
       "2415420    ...              -1        0           0.0          0   \n",
       "2139248    ...              -1        0        1064.0          0   \n",
       "3413216    ...              -1        0         139.6          0   \n",
       "\n",
       "         swimDistance  teamKills  vehicleDestroys  walkDistance  \\\n",
       "4172735           0.0          0                0        1109.0   \n",
       "1831933           0.0          0                0         223.8   \n",
       "2415420           0.0          0                0          31.3   \n",
       "2139248           0.0          0                0        1564.0   \n",
       "3413216           0.0          0                0         775.2   \n",
       "\n",
       "         weaponsAcquired  winPoints  \n",
       "4172735                2          0  \n",
       "1831933                3       1432  \n",
       "2415420                2       1541  \n",
       "2139248                2       1484  \n",
       "3413216                9       1481  \n",
       "\n",
       "[5 rows x 27 columns]"
      ]
     },
     "execution_count": 80,
     "metadata": {},
     "output_type": "execute_result"
    }
   ],
   "source": [
    "x_one_train.head()"
   ]
  },
  {
   "cell_type": "markdown",
   "metadata": {},
   "source": [
    "## Configure tree one"
   ]
  },
  {
   "cell_type": "code",
   "execution_count": 81,
   "metadata": {},
   "outputs": [],
   "source": [
    "params = {\n",
    "    \"max_depth\" : 5,\n",
    "    \"eval_metric\" : [\"mae\"],\n",
    "}\n"
   ]
  },
  {
   "cell_type": "code",
   "execution_count": 82,
   "metadata": {},
   "outputs": [
    {
     "name": "stdout",
     "output_type": "stream",
     "text": [
      "[18:34:01] src/tree/updater_prune.cc:74: tree pruning end, 1 roots, 62 extra nodes, 0 pruned nodes, max_depth=5\n",
      "[0]\ttrain-mae:0.201136\tval-mae:0.201323\n",
      "[18:34:13] src/tree/updater_prune.cc:74: tree pruning end, 1 roots, 62 extra nodes, 0 pruned nodes, max_depth=5\n",
      "[1]\ttrain-mae:0.15635\tval-mae:0.156381\n",
      "[18:34:22] src/tree/updater_prune.cc:74: tree pruning end, 1 roots, 62 extra nodes, 0 pruned nodes, max_depth=5\n",
      "[2]\ttrain-mae:0.126237\tval-mae:0.126194\n",
      "[18:34:33] src/tree/updater_prune.cc:74: tree pruning end, 1 roots, 62 extra nodes, 0 pruned nodes, max_depth=5\n",
      "[3]\ttrain-mae:0.106902\tval-mae:0.106822\n",
      "[18:34:43] src/tree/updater_prune.cc:74: tree pruning end, 1 roots, 62 extra nodes, 0 pruned nodes, max_depth=5\n",
      "[4]\ttrain-mae:0.09423\tval-mae:0.094133\n",
      "[18:34:53] src/tree/updater_prune.cc:74: tree pruning end, 1 roots, 62 extra nodes, 0 pruned nodes, max_depth=5\n",
      "[5]\ttrain-mae:0.085292\tval-mae:0.085165\n",
      "[18:35:03] src/tree/updater_prune.cc:74: tree pruning end, 1 roots, 62 extra nodes, 0 pruned nodes, max_depth=5\n",
      "[6]\ttrain-mae:0.07963\tval-mae:0.079506\n",
      "[18:35:13] src/tree/updater_prune.cc:74: tree pruning end, 1 roots, 62 extra nodes, 0 pruned nodes, max_depth=5\n",
      "[7]\ttrain-mae:0.076469\tval-mae:0.076346\n",
      "[18:35:23] src/tree/updater_prune.cc:74: tree pruning end, 1 roots, 62 extra nodes, 0 pruned nodes, max_depth=5\n",
      "[8]\ttrain-mae:0.073274\tval-mae:0.073151\n",
      "[18:35:36] src/tree/updater_prune.cc:74: tree pruning end, 1 roots, 62 extra nodes, 0 pruned nodes, max_depth=5\n",
      "[9]\ttrain-mae:0.071515\tval-mae:0.071393\n",
      "[18:35:46] src/tree/updater_prune.cc:74: tree pruning end, 1 roots, 62 extra nodes, 0 pruned nodes, max_depth=5\n",
      "[10]\ttrain-mae:0.070113\tval-mae:0.070003\n",
      "[18:35:56] src/tree/updater_prune.cc:74: tree pruning end, 1 roots, 62 extra nodes, 0 pruned nodes, max_depth=5\n",
      "[11]\ttrain-mae:0.069126\tval-mae:0.069022\n",
      "[18:36:06] src/tree/updater_prune.cc:74: tree pruning end, 1 roots, 62 extra nodes, 0 pruned nodes, max_depth=5\n",
      "[12]\ttrain-mae:0.068306\tval-mae:0.0682\n",
      "[18:36:16] src/tree/updater_prune.cc:74: tree pruning end, 1 roots, 62 extra nodes, 0 pruned nodes, max_depth=5\n",
      "[13]\ttrain-mae:0.067895\tval-mae:0.067788\n",
      "[18:36:26] src/tree/updater_prune.cc:74: tree pruning end, 1 roots, 62 extra nodes, 0 pruned nodes, max_depth=5\n",
      "[14]\ttrain-mae:0.067553\tval-mae:0.067447\n",
      "[18:36:36] src/tree/updater_prune.cc:74: tree pruning end, 1 roots, 62 extra nodes, 0 pruned nodes, max_depth=5\n",
      "[15]\ttrain-mae:0.067275\tval-mae:0.067176\n",
      "[18:36:45] src/tree/updater_prune.cc:74: tree pruning end, 1 roots, 62 extra nodes, 0 pruned nodes, max_depth=5\n",
      "[16]\ttrain-mae:0.066706\tval-mae:0.066607\n",
      "[18:36:54] src/tree/updater_prune.cc:74: tree pruning end, 1 roots, 62 extra nodes, 0 pruned nodes, max_depth=5\n",
      "[17]\ttrain-mae:0.066339\tval-mae:0.066246\n",
      "[18:37:04] src/tree/updater_prune.cc:74: tree pruning end, 1 roots, 62 extra nodes, 0 pruned nodes, max_depth=5\n",
      "[18]\ttrain-mae:0.065963\tval-mae:0.065872\n",
      "[18:37:13] src/tree/updater_prune.cc:74: tree pruning end, 1 roots, 62 extra nodes, 0 pruned nodes, max_depth=5\n",
      "[19]\ttrain-mae:0.065601\tval-mae:0.065506\n"
     ]
    }
   ],
   "source": [
    "iters = 20\n",
    "\n",
    "tree_one = xgb.train(params, trainset_one_dmatrix, evals=[(trainset_one_dmatrix, \"train\"),(valset_one_dmatrix, 'val')], num_boost_round = iters)"
   ]
  },
  {
   "cell_type": "markdown",
   "metadata": {},
   "source": [
    "xgb.plot_importance(tree_one,importance_type='cover')\n",
    "xgb.plot_importance(tree_one,importance_type='weight')"
   ]
  },
  {
   "cell_type": "markdown",
   "metadata": {},
   "source": [
    "# SET UP FOR MODEL TWO"
   ]
  },
  {
   "cell_type": "markdown",
   "metadata": {},
   "source": [
    "## Select the trainset features for tree two"
   ]
  },
  {
   "cell_type": "code",
   "execution_count": 83,
   "metadata": {},
   "outputs": [],
   "source": [
    "x_two = x_train.drop([\"Id\",\"groupId\",\"matchId\",\"matchType\"],axis=1)\n",
    "y_two = y_train\n",
    "\n",
    "x_two_val = x_val.drop([\"Id\",\"groupId\",\"matchId\",\"matchType\"],axis=1)\n",
    "y_two_val = y_val\n",
    "\n",
    "scaler = preprocessing.MinMaxScaler(feature_range=(-1, 1), copy=False).fit(x_two)"
   ]
  },
  {
   "cell_type": "code",
   "execution_count": 84,
   "metadata": {
    "scrolled": true
   },
   "outputs": [
    {
     "data": {
      "text/plain": [
       "array([[-1.        , -0.93939394, -0.92376471, ..., -0.80110769,\n",
       "        -0.96610169, -1.        ],\n",
       "       [-0.90909091, -0.93939394, -0.92897255, ..., -0.54584615,\n",
       "        -0.95762712, -1.        ],\n",
       "       [-1.        , -0.75757576, -0.89847843, ..., -0.59310769,\n",
       "        -0.95762712,  0.45355191],\n",
       "       ...,\n",
       "       [-1.        , -0.93939394, -0.98318431, ..., -0.98263385,\n",
       "        -0.98305085, -1.        ],\n",
       "       [-1.        , -1.        , -1.        , ..., -1.        ,\n",
       "        -1.        ,  0.4485842 ],\n",
       "       [-0.90909091, -0.81818182, -0.82315294, ..., -0.68516923,\n",
       "        -0.95762712, -1.        ]])"
      ]
     },
     "execution_count": 84,
     "metadata": {},
     "output_type": "execute_result"
    }
   ],
   "source": [
    "scaler.transform(x_two)"
   ]
  },
  {
   "cell_type": "markdown",
   "metadata": {},
   "source": [
    "## Define the NN"
   ]
  },
  {
   "cell_type": "code",
   "execution_count": 87,
   "metadata": {
    "scrolled": true
   },
   "outputs": [
    {
     "name": "stdout",
     "output_type": "stream",
     "text": [
      "_________________________________________________________________\n",
      "Layer (type)                 Output Shape              Param #   \n",
      "=================================================================\n",
      "dense_25 (Dense)             (None, 24)                600       \n",
      "_________________________________________________________________\n",
      "dense_26 (Dense)             (None, 136)               3400      \n",
      "_________________________________________________________________\n",
      "dense_27 (Dense)             (None, 136)               18632     \n",
      "_________________________________________________________________\n",
      "dense_28 (Dense)             (None, 136)               18632     \n",
      "_________________________________________________________________\n",
      "dense_29 (Dense)             (None, 136)               18632     \n",
      "_________________________________________________________________\n",
      "dense_30 (Dense)             (None, 1)                 137       \n",
      "=================================================================\n",
      "Total params: 60,033\n",
      "Trainable params: 60,033\n",
      "Non-trainable params: 0\n",
      "_________________________________________________________________\n"
     ]
    }
   ],
   "source": [
    "# create NN_model\n",
    "NN_model = Sequential()\n",
    "NN_model.add(Dense(x_two.shape[1],  input_dim = x_two.shape[1], activation='relu'))\n",
    "NN_model.add(Dense(136, activation='relu'))\n",
    "NN_model.add(Dense(136, activation='relu'))\n",
    "NN_model.add(Dense(136, activation='relu'))\n",
    "NN_model.add(Dense(136, activation='relu'))\n",
    "\n",
    "# output Layer\n",
    "NN_model.add(Dense(1, activation='linear'))\n",
    "\n",
    "# Compile the network :\n",
    "NN_model.compile(loss='mean_absolute_error', optimizer='adam', metrics=['mean_absolute_error'])\n",
    "NN_model.summary()"
   ]
  },
  {
   "cell_type": "code",
   "execution_count": 88,
   "metadata": {},
   "outputs": [],
   "source": [
    "checkpoint_name = 'Weights-{epoch:03d}--{val_loss:.5f}.hdf5' \n",
    "checkpoint = ModelCheckpoint(checkpoint_name, monitor='val_loss', verbose = 1, save_best_only = True, mode ='auto')\n",
    "callbacks_list = [checkpoint]"
   ]
  },
  {
   "cell_type": "code",
   "execution_count": 90,
   "metadata": {
    "scrolled": false
   },
   "outputs": [
    {
     "name": "stdout",
     "output_type": "stream",
     "text": [
      "Train on 2846057 samples, validate on 711515 samples\n",
      "Epoch 1/6\n",
      "2846057/2846057 [==============================] - 26s 9us/step - loss: 0.0680 - mean_absolute_error: 0.0680 - val_loss: 0.0685 - val_mean_absolute_error: 0.0685\n",
      "\n",
      "Epoch 00001: val_loss improved from 0.07025 to 0.06853, saving model to Weights-001--0.06853.hdf5\n",
      "Epoch 2/6\n",
      "2846057/2846057 [==============================] - 24s 8us/step - loss: 0.0663 - mean_absolute_error: 0.0663 - val_loss: 0.0734 - val_mean_absolute_error: 0.0734\n",
      "\n",
      "Epoch 00002: val_loss did not improve from 0.06853\n",
      "Epoch 3/6\n",
      "2846057/2846057 [==============================] - 24s 8us/step - loss: 0.0649 - mean_absolute_error: 0.0649 - val_loss: 0.0652 - val_mean_absolute_error: 0.0652\n",
      "\n",
      "Epoch 00003: val_loss improved from 0.06853 to 0.06518, saving model to Weights-003--0.06518.hdf5\n",
      "Epoch 4/6\n",
      "2846057/2846057 [==============================] - 25s 9us/step - loss: 0.0641 - mean_absolute_error: 0.0641 - val_loss: 0.0649 - val_mean_absolute_error: 0.0649\n",
      "\n",
      "Epoch 00004: val_loss improved from 0.06518 to 0.06488, saving model to Weights-004--0.06488.hdf5\n",
      "Epoch 5/6\n",
      "2846057/2846057 [==============================] - 24s 9us/step - loss: 0.0632 - mean_absolute_error: 0.0632 - val_loss: 0.0749 - val_mean_absolute_error: 0.0749\n",
      "\n",
      "Epoch 00005: val_loss did not improve from 0.06488\n",
      "Epoch 6/6\n",
      "2846057/2846057 [==============================] - 25s 9us/step - loss: 0.0626 - mean_absolute_error: 0.0626 - val_loss: 0.0648 - val_mean_absolute_error: 0.0648\n",
      "\n",
      "Epoch 00006: val_loss improved from 0.06488 to 0.06484, saving model to Weights-006--0.06484.hdf5\n"
     ]
    },
    {
     "data": {
      "text/plain": [
       "<keras.callbacks.History at 0x1a2247d310>"
      ]
     },
     "execution_count": 90,
     "metadata": {},
     "output_type": "execute_result"
    }
   ],
   "source": [
    "NN_model.fit(x=x_two, y=y_two, batch_size=1000,\n",
    "             epochs=6, verbose=1, callbacks=callbacks_list,\n",
    "             validation_split=0.20, validation_data=None, shuffle=True,\n",
    "             class_weight=None, sample_weight=None, initial_epoch=0,\n",
    "             steps_per_epoch=None, validation_steps=None)\n"
   ]
  },
  {
   "cell_type": "markdown",
   "metadata": {},
   "source": [
    "# ENSENBLE MODELS ON VALSET"
   ]
  },
  {
   "cell_type": "markdown",
   "metadata": {},
   "source": [
    "### Predict - Update - Predict"
   ]
  },
  {
   "cell_type": "code",
   "execution_count": 91,
   "metadata": {},
   "outputs": [],
   "source": [
    "def gen_predictions(models,labels,num_samples):\n",
    "    labels = labels[:num_samples].values\n",
    "    \n",
    "    predictions = []\n",
    "\n",
    "    for model in models:\n",
    "        data = model['data']\n",
    "        predictor = model['predictor']\n",
    "\n",
    "        if model['type'] == \"tree\":\n",
    "            matrix = xgb.DMatrix(data,feature_names=data.columns)\n",
    "            prediction = predictor.predict(matrix)\n",
    "        if model['type'] == \"nn\":\n",
    "            prediction = predictor.predict(data)\n",
    "        else:\n",
    "            continue\n",
    "\n",
    "        predictions.append(prediction)\n",
    "        \n",
    "    avg_predictions = [0.0]*len(predictions[0])\n",
    "    for i in range(len(predictions)):\n",
    "        for j in range(len(predictions[0])):\n",
    "            avg_predictions[j] += 1.0* predictions[i][j] / len(predictions)\n",
    "\n",
    "    print(len(avg_predictions))\n",
    "    return avg_predictions\n",
    "            "
   ]
  },
  {
   "cell_type": "markdown",
   "metadata": {},
   "source": [
    "### Ensemble model predictions"
   ]
  },
  {
   "cell_type": "code",
   "execution_count": 92,
   "metadata": {
    "scrolled": true
   },
   "outputs": [
    {
     "name": "stdout",
     "output_type": "stream",
     "text": [
      "889393\n"
     ]
    }
   ],
   "source": [
    "models = []\n",
    "models.append({'data':x_one_val,\n",
    "                'predictor':tree_one,\n",
    "                'type':\"tree\"})\n",
    "\n",
    "models.append({'data':x_two_val,\n",
    "                'predictor':NN_model,\n",
    "                'type':\"nn\"})\n",
    "\n",
    "labels = y_val\n",
    "\n",
    "num_samples = 200000\n",
    "\n",
    "predictions = gen_predictions(models,labels,num_samples)\n"
   ]
  },
  {
   "cell_type": "code",
   "execution_count": 93,
   "metadata": {
    "scrolled": true
   },
   "outputs": [
    {
     "name": "stdout",
     "output_type": "stream",
     "text": [
      "0.06472956851837199\n"
     ]
    }
   ],
   "source": [
    "print(sklearn.metrics.mean_absolute_error(labels,predictions))"
   ]
  },
  {
   "cell_type": "code",
   "execution_count": null,
   "metadata": {},
   "outputs": [],
   "source": []
  }
 ],
 "metadata": {
  "kernelspec": {
   "display_name": "Python 2",
   "language": "python",
   "name": "python2"
  },
  "language_info": {
   "codemirror_mode": {
    "name": "ipython",
    "version": 2
   },
   "file_extension": ".py",
   "mimetype": "text/x-python",
   "name": "python",
   "nbconvert_exporter": "python",
   "pygments_lexer": "ipython2",
   "version": "2.7.14"
  }
 },
 "nbformat": 4,
 "nbformat_minor": 2
}
