{
 "cells": [
  {
   "cell_type": "markdown",
   "metadata": {},
   "source": [
    "#### TSV files are essentially identical to CSV files except that TSV files use \"tabs (\\t)\" while CSV files use commas to store data in tabular structure. As a result, loading TSV files are slightly different from how we've been loading CSV files.\n",
    "##### Thanks to Clara Meister for providing this tutorial."
   ]
  },
  {
   "cell_type": "code",
   "execution_count": 1,
   "metadata": {},
   "outputs": [],
   "source": [
    "# For compatibility across multiple platforms\n",
    "import os\n",
    "import numpy as np\n",
    "import pandas as pd\n",
    "from scipy import spatial\n",
    "import seaborn as sn\n",
    "\n",
    "# Load files using DictReader in Python\n",
    "import matplotlib.pyplot as plt\n",
    "from sklearn.neighbors import KNeighborsClassifier\n",
    "from sklearn.tree import DecisionTreeClassifier\n",
    "from sklearn.ensemble import RandomForestClassifier\n",
    "from sklearn.naive_bayes import GaussianNB\n",
    "from sklearn import cluster\n",
    "from sklearn import preprocessing\n",
    "from sklearn.model_selection import KFold\n",
    "from sklearn.cluster import KMeans\n",
    "from sklearn.linear_model import LinearRegression\n",
    "from sklearn.metrics import confusion_matrix\n",
    "from sklearn import svm\n",
    "from sklearn.svm import SVR\n",
    "import sklearn\n"
   ]
  },
  {
   "cell_type": "code",
   "execution_count": 2,
   "metadata": {},
   "outputs": [
    {
     "data": {
      "text/html": [
       "<div>\n",
       "<style scoped>\n",
       "    .dataframe tbody tr th:only-of-type {\n",
       "        vertical-align: middle;\n",
       "    }\n",
       "\n",
       "    .dataframe tbody tr th {\n",
       "        vertical-align: top;\n",
       "    }\n",
       "\n",
       "    .dataframe thead th {\n",
       "        text-align: right;\n",
       "    }\n",
       "</style>\n",
       "<table border=\"1\" class=\"dataframe\">\n",
       "  <thead>\n",
       "    <tr style=\"text-align: right;\">\n",
       "      <th></th>\n",
       "      <th>Id</th>\n",
       "      <th>groupId</th>\n",
       "      <th>matchId</th>\n",
       "      <th>assists</th>\n",
       "      <th>boosts</th>\n",
       "      <th>damageDealt</th>\n",
       "      <th>DBNOs</th>\n",
       "      <th>headshotKills</th>\n",
       "      <th>heals</th>\n",
       "      <th>killPlace</th>\n",
       "      <th>...</th>\n",
       "      <th>rankPoints</th>\n",
       "      <th>revives</th>\n",
       "      <th>rideDistance</th>\n",
       "      <th>roadKills</th>\n",
       "      <th>swimDistance</th>\n",
       "      <th>teamKills</th>\n",
       "      <th>vehicleDestroys</th>\n",
       "      <th>walkDistance</th>\n",
       "      <th>weaponsAcquired</th>\n",
       "      <th>winPoints</th>\n",
       "    </tr>\n",
       "  </thead>\n",
       "  <tbody>\n",
       "    <tr>\n",
       "      <th>0</th>\n",
       "      <td>9329eb41e215eb</td>\n",
       "      <td>676b23c24e70d6</td>\n",
       "      <td>45b576ab7daa7f</td>\n",
       "      <td>0</td>\n",
       "      <td>0</td>\n",
       "      <td>51.46</td>\n",
       "      <td>0</td>\n",
       "      <td>0</td>\n",
       "      <td>0</td>\n",
       "      <td>73</td>\n",
       "      <td>...</td>\n",
       "      <td>1500</td>\n",
       "      <td>0</td>\n",
       "      <td>0.0</td>\n",
       "      <td>0</td>\n",
       "      <td>0.0</td>\n",
       "      <td>0</td>\n",
       "      <td>0</td>\n",
       "      <td>588.0</td>\n",
       "      <td>1</td>\n",
       "      <td>0</td>\n",
       "    </tr>\n",
       "    <tr>\n",
       "      <th>1</th>\n",
       "      <td>639bd0dcd7bda8</td>\n",
       "      <td>430933124148dd</td>\n",
       "      <td>42a9a0b906c928</td>\n",
       "      <td>0</td>\n",
       "      <td>4</td>\n",
       "      <td>179.10</td>\n",
       "      <td>0</td>\n",
       "      <td>0</td>\n",
       "      <td>2</td>\n",
       "      <td>11</td>\n",
       "      <td>...</td>\n",
       "      <td>1503</td>\n",
       "      <td>2</td>\n",
       "      <td>4669.0</td>\n",
       "      <td>0</td>\n",
       "      <td>0.0</td>\n",
       "      <td>0</td>\n",
       "      <td>0</td>\n",
       "      <td>2017.0</td>\n",
       "      <td>6</td>\n",
       "      <td>0</td>\n",
       "    </tr>\n",
       "    <tr>\n",
       "      <th>2</th>\n",
       "      <td>63d5c8ef8dfe91</td>\n",
       "      <td>0b45f5db20ba99</td>\n",
       "      <td>87e7e4477a048e</td>\n",
       "      <td>1</td>\n",
       "      <td>0</td>\n",
       "      <td>23.40</td>\n",
       "      <td>0</td>\n",
       "      <td>0</td>\n",
       "      <td>4</td>\n",
       "      <td>49</td>\n",
       "      <td>...</td>\n",
       "      <td>1565</td>\n",
       "      <td>0</td>\n",
       "      <td>0.0</td>\n",
       "      <td>0</td>\n",
       "      <td>0.0</td>\n",
       "      <td>0</td>\n",
       "      <td>0</td>\n",
       "      <td>787.8</td>\n",
       "      <td>4</td>\n",
       "      <td>0</td>\n",
       "    </tr>\n",
       "    <tr>\n",
       "      <th>3</th>\n",
       "      <td>cf5b81422591d1</td>\n",
       "      <td>b7497dbdc77f4a</td>\n",
       "      <td>1b9a94f1af67f1</td>\n",
       "      <td>0</td>\n",
       "      <td>0</td>\n",
       "      <td>65.52</td>\n",
       "      <td>0</td>\n",
       "      <td>0</td>\n",
       "      <td>0</td>\n",
       "      <td>54</td>\n",
       "      <td>...</td>\n",
       "      <td>1465</td>\n",
       "      <td>0</td>\n",
       "      <td>0.0</td>\n",
       "      <td>0</td>\n",
       "      <td>0.0</td>\n",
       "      <td>0</td>\n",
       "      <td>0</td>\n",
       "      <td>1812.0</td>\n",
       "      <td>3</td>\n",
       "      <td>0</td>\n",
       "    </tr>\n",
       "    <tr>\n",
       "      <th>4</th>\n",
       "      <td>ee6a295187ba21</td>\n",
       "      <td>6604ce20a1d230</td>\n",
       "      <td>40754a93016066</td>\n",
       "      <td>0</td>\n",
       "      <td>4</td>\n",
       "      <td>330.20</td>\n",
       "      <td>1</td>\n",
       "      <td>2</td>\n",
       "      <td>1</td>\n",
       "      <td>7</td>\n",
       "      <td>...</td>\n",
       "      <td>1480</td>\n",
       "      <td>1</td>\n",
       "      <td>0.0</td>\n",
       "      <td>0</td>\n",
       "      <td>0.0</td>\n",
       "      <td>0</td>\n",
       "      <td>0</td>\n",
       "      <td>2963.0</td>\n",
       "      <td>4</td>\n",
       "      <td>0</td>\n",
       "    </tr>\n",
       "  </tbody>\n",
       "</table>\n",
       "<p>5 rows × 28 columns</p>\n",
       "</div>"
      ],
      "text/plain": [
       "               Id         groupId         matchId  assists  boosts  \\\n",
       "0  9329eb41e215eb  676b23c24e70d6  45b576ab7daa7f        0       0   \n",
       "1  639bd0dcd7bda8  430933124148dd  42a9a0b906c928        0       4   \n",
       "2  63d5c8ef8dfe91  0b45f5db20ba99  87e7e4477a048e        1       0   \n",
       "3  cf5b81422591d1  b7497dbdc77f4a  1b9a94f1af67f1        0       0   \n",
       "4  ee6a295187ba21  6604ce20a1d230  40754a93016066        0       4   \n",
       "\n",
       "   damageDealt  DBNOs  headshotKills  heals  killPlace    ...      rankPoints  \\\n",
       "0        51.46      0              0      0         73    ...            1500   \n",
       "1       179.10      0              0      2         11    ...            1503   \n",
       "2        23.40      0              0      4         49    ...            1565   \n",
       "3        65.52      0              0      0         54    ...            1465   \n",
       "4       330.20      1              2      1          7    ...            1480   \n",
       "\n",
       "   revives  rideDistance  roadKills  swimDistance teamKills  vehicleDestroys  \\\n",
       "0        0           0.0          0           0.0         0                0   \n",
       "1        2        4669.0          0           0.0         0                0   \n",
       "2        0           0.0          0           0.0         0                0   \n",
       "3        0           0.0          0           0.0         0                0   \n",
       "4        1           0.0          0           0.0         0                0   \n",
       "\n",
       "   walkDistance  weaponsAcquired  winPoints  \n",
       "0         588.0                1          0  \n",
       "1        2017.0                6          0  \n",
       "2         787.8                4          0  \n",
       "3        1812.0                3          0  \n",
       "4        2963.0                4          0  \n",
       "\n",
       "[5 rows x 28 columns]"
      ]
     },
     "execution_count": 2,
     "metadata": {},
     "output_type": "execute_result"
    }
   ],
   "source": [
    "train_filepath = \"pubg-finish-placement-prediction/train_V2.csv\"\n",
    "\n",
    "test_filepath = \"pubg-finish-placement-prediction/test_V2.csv\"\n",
    "\n",
    "#trainset_file = open(train_filepath,'rU')\n",
    "trainset = pd.read_csv(train_filepath)\n",
    "\n",
    "#testset_file = open(test_filepath,'rU')\n",
    "testset = pd.read_csv(test_filepath)\n",
    "\n",
    "trainset.head()\n",
    "testset.head()"
   ]
  },
  {
   "cell_type": "code",
   "execution_count": 3,
   "metadata": {},
   "outputs": [
    {
     "name": "stdout",
     "output_type": "stream",
     "text": [
      "len old trainset 4446966\n",
      "len new trainset 3557572\n",
      "len valset 889394\n"
     ]
    }
   ],
   "source": [
    "#STEP 2\n",
    "\n",
    "\n",
    "#make baseline train and validation set --> 80:20 --> we can do kfold validation later \n",
    "print(\"len old trainset\",len(trainset))\n",
    "\n",
    "trainset_split = int(.8 * len(trainset))\n",
    "valset = trainset[trainset_split:]\n",
    "trainset = trainset[:trainset_split]\n",
    "\n",
    "print(\"len new trainset\",len(trainset))\n",
    "print(\"len valset\", len(valset))"
   ]
  },
  {
   "cell_type": "code",
   "execution_count": 4,
   "metadata": {
    "scrolled": true
   },
   "outputs": [
    {
     "data": {
      "text/plain": [
       "array(['Id', 'groupId', 'matchId', 'assists', 'boosts', 'damageDealt',\n",
       "       'DBNOs', 'headshotKills', 'heals', 'killPlace', 'killPoints',\n",
       "       'kills', 'killStreaks', 'longestKill', 'matchDuration',\n",
       "       'matchType', 'maxPlace', 'numGroups', 'rankPoints', 'revives',\n",
       "       'rideDistance', 'roadKills', 'swimDistance', 'teamKills',\n",
       "       'vehicleDestroys', 'walkDistance', 'weaponsAcquired', 'winPoints',\n",
       "       'winPlacePerc'], dtype=object)"
      ]
     },
     "execution_count": 4,
     "metadata": {},
     "output_type": "execute_result"
    }
   ],
   "source": [
    "trainset.columns.values"
   ]
  },
  {
   "cell_type": "code",
   "execution_count": 5,
   "metadata": {},
   "outputs": [],
   "source": [
    "trainset_sorted = dict()\n",
    "\n",
    "#sort by matches \n",
    "trainset_sorted['matchId'] = trainset.groupby('matchId')"
   ]
  },
  {
   "cell_type": "code",
   "execution_count": 6,
   "metadata": {},
   "outputs": [
    {
     "name": "stdout",
     "output_type": "stream",
     "text": [
      "len of trainset 3557572\n",
      "num matches 47965\n"
     ]
    }
   ],
   "source": [
    "#check to make sure sorting is all good\n",
    "print(\"len of trainset\",len(trainset))\n",
    "print(\"num matches\",len(trainset_sorted['matchId']))\n",
    "\n"
   ]
  },
  {
   "cell_type": "code",
   "execution_count": 7,
   "metadata": {},
   "outputs": [],
   "source": [
    "#bucket labels \n",
    "def bucket_labels(set_a,set_b,n_classes):\n",
    "    le = preprocessing.LabelEncoder() #100 classes\n",
    "\n",
    "    trainset_labels = le.fit_transform(set_a[outcome])\n",
    "    print(trainset_labels)\n",
    "    print(len(trainset_labels))\n",
    "    valset_labels = le.fit_transform(set_a[outcome])\n",
    "    labels = [trainset_labels,valset_labels]\n",
    "    result = []\n",
    "    for curr_labels in labels:\n",
    "        current_classes = max(curr_labels)\n",
    "        curr_result = []\n",
    "        for label in curr_labels:\n",
    "            n = ((1.0 * label)/current_classes)*n_classes\n",
    "            curr_result.append(round(n))\n",
    "        result.append(curr_result)\n",
    "    \n",
    "    print(min(result[0]))\n",
    "    return (result[0],result[1])\n",
    "            \n",
    "\n"
   ]
  },
  {
   "cell_type": "markdown",
   "metadata": {},
   "source": [
    "# KNN"
   ]
  },
  {
   "cell_type": "code",
   "execution_count": 10,
   "metadata": {
    "scrolled": true
   },
   "outputs": [
    {
     "name": "stdout",
     "output_type": "stream",
     "text": [
      "[ 798 1141 1386 ...    0  752 1166]\n",
      "160000\n",
      "0.0\n",
      "train error\n",
      "34.87429590374999\n",
      "test error\n",
      "34.841378461874996\n"
     ]
    }
   ],
   "source": [
    "#STEP 1\n",
    "#start of fraction section\n",
    "#KNN\n",
    "\n",
    "outcome = 'winPlacePerc'\n",
    "\n",
    "features = ['kills','assists','damageDealt','heals','weaponsAcquired','winPoints','assists']\n",
    "neighbors = 2\n",
    "\n",
    "abbrev_trainset = trainset[:160000]\n",
    "abbrev_valset = valset[:160000]\n",
    "\n",
    "trainset_labels,valset_labels = bucket_labels(abbrev_trainset,abbrev_valset,100)\n",
    "\n",
    "classifier = None \n",
    "classifier = KNeighborsClassifier(neighbors)\n",
    "classifier.fit(abbrev_trainset[features], trainset_labels)\n",
    "predictions = classifier.predict(abbrev_valset[features])\n",
    "result = sklearn.metrics.mean_absolute_error(abbrev_trainset[outcome], predictions)\n",
    "print('train error')\n",
    "print(result)\n",
    "\n",
    "classifier.fit(abbrev_trainset[features], trainset_labels)\n",
    "predictions = classifier.predict(abbrev_valset[features])\n",
    "result = sklearn.metrics.mean_absolute_error(abbrev_valset[outcome], predictions)\n",
    "print('test error')\n",
    "print(result)\n",
    "\n",
    "\n",
    "    "
   ]
  },
  {
   "cell_type": "markdown",
   "metadata": {},
   "source": [
    "# Experimental"
   ]
  },
  {
   "cell_type": "code",
   "execution_count": null,
   "metadata": {},
   "outputs": [],
   "source": [
    "#Step 2 \n",
    "#Linear Regression\n",
    "lr = LinearRegression().fit(abbrev_trainset[features],abbrev_trainset[outcome])\n",
    "lr_predict = lr.predict(abbrev_valset[features])\n",
    "mea_lr = sklearn.metrics.mean_absolute_error(abbrev_valset[outcome], lr_predict)\n",
    "print(mea_lr)"
   ]
  },
  {
   "cell_type": "code",
   "execution_count": null,
   "metadata": {
    "scrolled": false
   },
   "outputs": [],
   "source": [
    "\n",
    "n_classes = max(valset_labels)\n",
    "for i in range(1,neighbors):\n",
    "    print(i,sklearn.metrics.mean_absolute_error(valset_labels,predictions[i]))\n",
    "    "
   ]
  },
  {
   "cell_type": "code",
   "execution_count": null,
   "metadata": {},
   "outputs": [],
   "source": [
    "#Forest of trees\n",
    "features = ['year','age','genre1_num','gender_num']\n",
    "trees = 10\n",
    "rf = RandomForestClassifier(n_estimators=trees)\n",
    "rf.fit(train[features],train['rating'])\n",
    "predictions_FT = rf.predict(test[features])\n",
    "# Calculate accuracy\n",
    "numtrain = len(train)\n",
    "numtest = len(test)\n",
    "correct = 0\n",
    "for i in range(numtest):\n",
    "#    print 'Predicted:', predictions[i], ' Actual:', citiesTest.loc[numtrain+i]['category']\n",
    "#    if predictions_FT[i] == test.loc[numtrain+i]['rating']: correct +=1\n",
    "#print 'Accuracy:', float(correct)/float(numtest)\n",
    "       \n",
    "       \n",
    "    print 'Predicted:', predictions_FT[i], ' Actual:', train.iloc[i]['rating']\n",
    "    if predictions_FT[i] == test.iloc[i]['rating']: correct +=1\n",
    "print 'Accuracy:', float(correct)/float(numtest)"
   ]
  },
  {
   "cell_type": "code",
   "execution_count": null,
   "metadata": {},
   "outputs": [],
   "source": [
    "#Naive bayes\n",
    "features = ['year','age','genre1_num','gender_num']\n",
    "nb = GaussianNB()\n",
    "nb.fit(train[features],train['rating'])\n",
    "predictions_NB = nb.predict(test[features])\n",
    "# Calculate accuracy\n",
    "numtrain = len(train)\n",
    "numtest = len(test)\n",
    "correct = 0\n",
    "for i in range(numtest):\n",
    "    print('Predicted:', predictions_NB[i], ' Actual:', train.iloc[i]['rating'])\n",
    "    if predictions_NB[i] == test.iloc[i]['rating']: correct +=1\n",
    "print('Accuracy:', float(correct)/float(numtest))"
   ]
  },
  {
   "cell_type": "code",
   "execution_count": null,
   "metadata": {},
   "outputs": [],
   "source": [
    "#find mean\n",
    "avgpredicts = []\n",
    "for i in range(201):\n",
    "    avgpredict=1.0*(predictions_KNN[i]+predictions_FT[i]+predictions_NB[i])/2\n",
    "    avgpredicts.append(avgpredict)\n",
    "for i, avgpredict in enumerate(avgpredicts):\n",
    "    if avgpredict > 5: \n",
    "        avgpredicts[i] = 5.0\n",
    "print(avgpredicts)"
   ]
  },
  {
   "cell_type": "code",
   "execution_count": null,
   "metadata": {},
   "outputs": [],
   "source": [
    "#STEP 3\n",
    "\n",
    "\n",
    "#Exports real numbers predictions to csv - named V1predict.csv\n",
    "import csv\n",
    "input_file = csv.reader(open(\"predict.csv\"))\n",
    "# This is the file where you will save the result.\n",
    "ofile = open('V1predict.csv', \"w\")\n",
    "# This is a way to use csv.writer.\n",
    "writer = csv.writer(ofile, quotechar='\"', quoting=csv.QUOTE_ALL)\n",
    "# loop over each row of predict.csv\n",
    "for row_num, row in enumerate(input_file):\n",
    "    # if header row, just write it and does nothing else\n",
    "    if row_num == 0:\n",
    "        writer.writerow(row)\n",
    "        continue\n",
    "    # if not header row, put your own prediction for the second column of the current row\n",
    "    row[2] = str(avgpredicts[row_num-1])\n",
    "    # write out the row to the file\n",
    "    writer.writerow(row)\n",
    "# finish writing to the file and close it\n",
    "ofile.close()"
   ]
  },
  {
   "cell_type": "code",
   "execution_count": null,
   "metadata": {},
   "outputs": [],
   "source": [
    "#STEP 3\n",
    "\n",
    "\n",
    "#Exports integers predictions to csv - named V2predict.csv\n",
    "\n",
    "import csv\n",
    "input_file = csv.reader(open(\"predict.csv\"))\n",
    "# This is the file where you will save the result.\n",
    "ofile = open('V2predict.csv', \"w\")\n",
    "# This is a way to use csv.writer.\n",
    "writer = csv.writer(ofile, quotechar='\"', quoting=csv.QUOTE_ALL)\n",
    "# loop over each row of predict.csv\n",
    "for row_num, row in enumerate(input_file):\n",
    "    # if header row, just write it and does nothing else\n",
    "    if row_num == 0:\n",
    "        writer.writerow(row)\n",
    "        continue\n",
    "    # if not header row, put your own prediction for the second column of the current row\n",
    "    row[2] = str(predictions[row_num-1])\n",
    "    # write out the row to the file\n",
    "    writer.writerow(row)\n",
    "# finish writing to the file and close it\n",
    "ofile.close()"
   ]
  },
  {
   "cell_type": "code",
   "execution_count": null,
   "metadata": {},
   "outputs": [],
   "source": []
  },
  {
   "cell_type": "code",
   "execution_count": null,
   "metadata": {},
   "outputs": [],
   "source": []
  }
 ],
 "metadata": {
  "kernelspec": {
   "display_name": "Python 3",
   "language": "python",
   "name": "python3"
  },
  "language_info": {
   "codemirror_mode": {
    "name": "ipython",
    "version": 3
   },
   "file_extension": ".py",
   "mimetype": "text/x-python",
   "name": "python",
   "nbconvert_exporter": "python",
   "pygments_lexer": "ipython3",
   "version": "3.6.6"
  }
 },
 "nbformat": 4,
 "nbformat_minor": 2
}
