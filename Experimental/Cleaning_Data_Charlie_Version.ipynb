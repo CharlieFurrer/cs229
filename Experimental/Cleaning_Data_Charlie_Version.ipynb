{
 "cells": [
  {
   "cell_type": "markdown",
   "metadata": {},
   "source": [
    "#### TSV files are essentially identical to CSV files except that TSV files use \"tabs (\\t)\" while CSV files use commas to store data in tabular structure. As a result, loading TSV files are slightly different from how we've been loading CSV files.\n",
    "##### Thanks to Clara Meister for providing this tutorial."
   ]
  },
  {
   "cell_type": "code",
   "execution_count": 1,
   "metadata": {},
   "outputs": [],
   "source": [
    "# For compatibility across multiple platforms\n",
    "import os\n",
    "import numpy as np\n",
    "import pandas as pd\n",
    "from scipy import spatial\n",
    "\n",
    "\n",
    "# Load files using DictReader in Python\n",
    "import matplotlib.pyplot as plt\n",
    "import xgboost as xgb\n",
    "from sklearn.neighbors import KNeighborsClassifier\n",
    "from sklearn.tree import DecisionTreeClassifier\n",
    "from sklearn.ensemble import RandomForestClassifier\n",
    "from sklearn.naive_bayes import GaussianNB\n",
    "from sklearn.model_selection import train_test_split\n",
    "from sklearn import cluster\n",
    "from sklearn import preprocessing\n",
    "from sklearn.model_selection import KFold\n",
    "import sklearn"
   ]
  },
  {
   "cell_type": "raw",
   "metadata": {},
   "source": [
    "Only run this square the first time -- after we save the train_V2_clean.csv, comment this out "
   ]
  },
  {
   "cell_type": "code",
   "execution_count": 25,
   "metadata": {},
   "outputs": [],
   "source": [
    "train_filepath = \"pubg-finish-placement-prediction/train_V2_clean.csv\"\n",
    "\n",
    "test_filepath = \"pubg-finish-placement-prediction/test_V2.csv\"\n",
    "\n",
    "#trainset_file = open(train_filepath,'rU')\n",
    "trainset = pd.read_csv(train_filepath,index_col=0)\n",
    "\n",
    "#testset_file = open(test_filepath,'rU')\n",
    "testset = pd.read_csv(test_filepath)"
   ]
  },
  {
   "cell_type": "code",
   "execution_count": 26,
   "metadata": {},
   "outputs": [],
   "source": [
    "trainset[trainset['winPlacePerc'].isnull()]\n",
    "trainset.drop(2744604,inplace=True)"
   ]
  },
  {
   "cell_type": "raw",
   "metadata": {},
   "source": [
    "for i in trainset.index:\n",
    "    trainset.at[i,\"Id\"] = int(trainset.at[i,\"Id\"],16)\n",
    "    trainset.at[i,\"matchId\"] = int(trainset.at[i,\"matchId\"],16)\n",
    "    trainset.at[i,\"groupId\"] = int(trainset.at[i,\"groupId\"],16)\n",
    "\n",
    "trainset.head()"
   ]
  },
  {
   "cell_type": "code",
   "execution_count": 27,
   "metadata": {},
   "outputs": [
    {
     "name": "stdout",
     "output_type": "stream",
     "text": [
      "4446965\n"
     ]
    }
   ],
   "source": [
    "print(len(trainset))"
   ]
  },
  {
   "cell_type": "code",
   "execution_count": 28,
   "metadata": {},
   "outputs": [],
   "source": [
    "trainset.to_csv(\"pubg-finish-placement-prediction/train_V2_clean.csv\")"
   ]
  },
  {
   "cell_type": "raw",
   "metadata": {},
   "source": [
    "DONE WITH CLEANING "
   ]
  },
  {
   "cell_type": "code",
   "execution_count": null,
   "metadata": {},
   "outputs": [],
   "source": []
  },
  {
   "cell_type": "raw",
   "metadata": {
    "scrolled": true
   },
   "source": [
    "#STEP 2\n",
    "\n",
    "\n",
    "print(\"len old trainset\",len(trainset))\n",
    "\n",
    "trainset_split = int(.8 * len(trainset))\n",
    "valset = trainset[trainset_split:]\n",
    "trainset = trainset[:trainset_split]\n",
    "\n",
    "print(\"len new trainset\",len(trainset))\n",
    "print(\"len valset\", len(valset))"
   ]
  },
  {
   "cell_type": "code",
   "execution_count": null,
   "metadata": {
    "scrolled": true
   },
   "outputs": [],
   "source": []
  },
  {
   "cell_type": "code",
   "execution_count": 29,
   "metadata": {},
   "outputs": [],
   "source": [
    "matchTypeIndex = 15\n",
    "trainset = trainset.drop([\"matchType\"],axis=1)\n",
    "train_columns = list(trainset.columns[:-1])\n",
    "\n",
    "\n",
    "x = trainset[train_columns]\n",
    "y = trainset[\"winPlacePerc\"]\n",
    "\n",
    "\n",
    "x_train, x_val, y_train, y_val = train_test_split(x, y, test_size=0.2)"
   ]
  },
  {
   "cell_type": "code",
   "execution_count": 30,
   "metadata": {},
   "outputs": [
    {
     "data": {
      "text/html": [
       "<div>\n",
       "<style scoped>\n",
       "    .dataframe tbody tr th:only-of-type {\n",
       "        vertical-align: middle;\n",
       "    }\n",
       "\n",
       "    .dataframe tbody tr th {\n",
       "        vertical-align: top;\n",
       "    }\n",
       "\n",
       "    .dataframe thead th {\n",
       "        text-align: right;\n",
       "    }\n",
       "</style>\n",
       "<table border=\"1\" class=\"dataframe\">\n",
       "  <thead>\n",
       "    <tr style=\"text-align: right;\">\n",
       "      <th></th>\n",
       "      <th>Id</th>\n",
       "      <th>groupId</th>\n",
       "      <th>matchId</th>\n",
       "      <th>assists</th>\n",
       "      <th>boosts</th>\n",
       "      <th>damageDealt</th>\n",
       "      <th>DBNOs</th>\n",
       "      <th>headshotKills</th>\n",
       "      <th>heals</th>\n",
       "      <th>killPlace</th>\n",
       "      <th>...</th>\n",
       "      <th>rankPoints</th>\n",
       "      <th>revives</th>\n",
       "      <th>rideDistance</th>\n",
       "      <th>roadKills</th>\n",
       "      <th>swimDistance</th>\n",
       "      <th>teamKills</th>\n",
       "      <th>vehicleDestroys</th>\n",
       "      <th>walkDistance</th>\n",
       "      <th>weaponsAcquired</th>\n",
       "      <th>winPoints</th>\n",
       "    </tr>\n",
       "  </thead>\n",
       "  <tbody>\n",
       "    <tr>\n",
       "      <th>2714566</th>\n",
       "      <td>58472278889380755</td>\n",
       "      <td>1657434101040035</td>\n",
       "      <td>35597498315359076</td>\n",
       "      <td>1</td>\n",
       "      <td>0</td>\n",
       "      <td>212.1</td>\n",
       "      <td>2</td>\n",
       "      <td>1</td>\n",
       "      <td>2</td>\n",
       "      <td>8</td>\n",
       "      <td>...</td>\n",
       "      <td>-1</td>\n",
       "      <td>0</td>\n",
       "      <td>0.0</td>\n",
       "      <td>0</td>\n",
       "      <td>0.0</td>\n",
       "      <td>0</td>\n",
       "      <td>0</td>\n",
       "      <td>1910.00</td>\n",
       "      <td>3</td>\n",
       "      <td>1458</td>\n",
       "    </tr>\n",
       "    <tr>\n",
       "      <th>1985953</th>\n",
       "      <td>53977881098339660</td>\n",
       "      <td>64113720106816327</td>\n",
       "      <td>66431226524456095</td>\n",
       "      <td>0</td>\n",
       "      <td>0</td>\n",
       "      <td>200.5</td>\n",
       "      <td>2</td>\n",
       "      <td>0</td>\n",
       "      <td>0</td>\n",
       "      <td>90</td>\n",
       "      <td>...</td>\n",
       "      <td>1497</td>\n",
       "      <td>0</td>\n",
       "      <td>0.0</td>\n",
       "      <td>0</td>\n",
       "      <td>0.0</td>\n",
       "      <td>0</td>\n",
       "      <td>0</td>\n",
       "      <td>54.52</td>\n",
       "      <td>2</td>\n",
       "      <td>0</td>\n",
       "    </tr>\n",
       "    <tr>\n",
       "      <th>1036367</th>\n",
       "      <td>29935273402517032</td>\n",
       "      <td>51006396439529609</td>\n",
       "      <td>64259306844803646</td>\n",
       "      <td>0</td>\n",
       "      <td>2</td>\n",
       "      <td>291.3</td>\n",
       "      <td>2</td>\n",
       "      <td>0</td>\n",
       "      <td>5</td>\n",
       "      <td>12</td>\n",
       "      <td>...</td>\n",
       "      <td>-1</td>\n",
       "      <td>0</td>\n",
       "      <td>0.0</td>\n",
       "      <td>0</td>\n",
       "      <td>0.0</td>\n",
       "      <td>0</td>\n",
       "      <td>0</td>\n",
       "      <td>440.40</td>\n",
       "      <td>5</td>\n",
       "      <td>1336</td>\n",
       "    </tr>\n",
       "    <tr>\n",
       "      <th>2172329</th>\n",
       "      <td>52830069417329935</td>\n",
       "      <td>57443433677191739</td>\n",
       "      <td>26979526710759587</td>\n",
       "      <td>0</td>\n",
       "      <td>0</td>\n",
       "      <td>235.7</td>\n",
       "      <td>2</td>\n",
       "      <td>1</td>\n",
       "      <td>2</td>\n",
       "      <td>11</td>\n",
       "      <td>...</td>\n",
       "      <td>1500</td>\n",
       "      <td>0</td>\n",
       "      <td>0.0</td>\n",
       "      <td>0</td>\n",
       "      <td>0.0</td>\n",
       "      <td>0</td>\n",
       "      <td>0</td>\n",
       "      <td>2689.00</td>\n",
       "      <td>3</td>\n",
       "      <td>0</td>\n",
       "    </tr>\n",
       "    <tr>\n",
       "      <th>637302</th>\n",
       "      <td>34171362148143934</td>\n",
       "      <td>23116162434332375</td>\n",
       "      <td>50978066672431266</td>\n",
       "      <td>0</td>\n",
       "      <td>0</td>\n",
       "      <td>0.0</td>\n",
       "      <td>0</td>\n",
       "      <td>0</td>\n",
       "      <td>0</td>\n",
       "      <td>87</td>\n",
       "      <td>...</td>\n",
       "      <td>-1</td>\n",
       "      <td>1</td>\n",
       "      <td>0.0</td>\n",
       "      <td>0</td>\n",
       "      <td>0.0</td>\n",
       "      <td>0</td>\n",
       "      <td>0</td>\n",
       "      <td>66.20</td>\n",
       "      <td>1</td>\n",
       "      <td>1513</td>\n",
       "    </tr>\n",
       "  </tbody>\n",
       "</table>\n",
       "<p>5 rows × 27 columns</p>\n",
       "</div>"
      ],
      "text/plain": [
       "                        Id            groupId            matchId  assists  \\\n",
       "2714566  58472278889380755   1657434101040035  35597498315359076        1   \n",
       "1985953  53977881098339660  64113720106816327  66431226524456095        0   \n",
       "1036367  29935273402517032  51006396439529609  64259306844803646        0   \n",
       "2172329  52830069417329935  57443433677191739  26979526710759587        0   \n",
       "637302   34171362148143934  23116162434332375  50978066672431266        0   \n",
       "\n",
       "         boosts  damageDealt  DBNOs  headshotKills  heals  killPlace  \\\n",
       "2714566       0        212.1      2              1      2          8   \n",
       "1985953       0        200.5      2              0      0         90   \n",
       "1036367       2        291.3      2              0      5         12   \n",
       "2172329       0        235.7      2              1      2         11   \n",
       "637302        0          0.0      0              0      0         87   \n",
       "\n",
       "           ...      rankPoints  revives  rideDistance  roadKills  \\\n",
       "2714566    ...              -1        0           0.0          0   \n",
       "1985953    ...            1497        0           0.0          0   \n",
       "1036367    ...              -1        0           0.0          0   \n",
       "2172329    ...            1500        0           0.0          0   \n",
       "637302     ...              -1        1           0.0          0   \n",
       "\n",
       "         swimDistance  teamKills  vehicleDestroys  walkDistance  \\\n",
       "2714566           0.0          0                0       1910.00   \n",
       "1985953           0.0          0                0         54.52   \n",
       "1036367           0.0          0                0        440.40   \n",
       "2172329           0.0          0                0       2689.00   \n",
       "637302            0.0          0                0         66.20   \n",
       "\n",
       "         weaponsAcquired  winPoints  \n",
       "2714566                3       1458  \n",
       "1985953                2          0  \n",
       "1036367                5       1336  \n",
       "2172329                3          0  \n",
       "637302                 1       1513  \n",
       "\n",
       "[5 rows x 27 columns]"
      ]
     },
     "execution_count": 30,
     "metadata": {},
     "output_type": "execute_result"
    }
   ],
   "source": [
    "x_train.head()"
   ]
  },
  {
   "cell_type": "code",
   "execution_count": 31,
   "metadata": {},
   "outputs": [],
   "source": [
    "def includeFeatures(trainset,featuresToInclude):\n",
    "    featuresToInclude = set(featuresToInclude)\n",
    "    for feature in trainset.columns:\n",
    "        if feature not in featuresToInclude:\n",
    "            trainset.drop(feature,axis=1)"
   ]
  },
  {
   "cell_type": "code",
   "execution_count": 32,
   "metadata": {},
   "outputs": [
    {
     "name": "stdout",
     "output_type": "stream",
     "text": [
      "Index([u'Id', u'groupId', u'matchId', u'assists', u'boosts', u'damageDealt',\n",
      "       u'DBNOs', u'headshotKills', u'heals', u'killPlace', u'killPoints',\n",
      "       u'kills', u'killStreaks', u'longestKill', u'matchDuration', u'maxPlace',\n",
      "       u'numGroups', u'rankPoints', u'revives', u'rideDistance', u'roadKills',\n",
      "       u'swimDistance', u'teamKills', u'vehicleDestroys', u'walkDistance',\n",
      "       u'weaponsAcquired', u'winPoints', u'winPlacePerc'],\n",
      "      dtype='object')\n"
     ]
    }
   ],
   "source": [
    "print(trainset.columns)"
   ]
  },
  {
   "cell_type": "raw",
   "metadata": {},
   "source": [
    "\n",
    "featuresToRemove =[\"Id\",\"groupId\",\"matchId\",\"matchType\"]\n",
    "#featuresToInclude = [\"assists\",\"damageDealt\",\"headshotKills\",\"killPoints\",\"maxPlace\",\"rankPoints\",\"walkDistance\",\"rideDistance\",\"matchDuration\",\"winPoints\",\"revives\",\"winPlacePerc\"]\n",
    "\n",
    "\n",
    "trainset = trainset.drop(featuresToRemove,axis=1)\n",
    "valset = valset.drop(featuresToRemove,axis=1)\n",
    "\n",
    "includeFeatures(trainset,featuresToInclude)\n",
    "includeFeatures(valset,featuresToInclude)\n"
   ]
  },
  {
   "cell_type": "raw",
   "metadata": {
    "scrolled": false
   },
   "source": [
    "x_train,y_train = trainset.iloc[:,:-1],trainset.iloc[:,-1]\n",
    "x_val,y_val = valset.iloc[:,:-1],valset.iloc[:,-1]\n",
    "\n",
    "\n",
    "print(x_train)\n",
    "print(y_train)\n",
    "print(x_val)\n",
    "print(y_val)"
   ]
  },
  {
   "cell_type": "code",
   "execution_count": 33,
   "metadata": {
    "scrolled": true
   },
   "outputs": [],
   "source": [
    "trainset_dmatrix = xgb.DMatrix(x_train.values,label=y_train.values)\n",
    "valset_dmatrix = xgb.DMatrix(x_val.values,label=y_val.values)"
   ]
  },
  {
   "cell_type": "code",
   "execution_count": null,
   "metadata": {},
   "outputs": [],
   "source": [
    "params = {\n",
    "    \"max_depth\" : 5,\n",
    "    \"eval_metric\" : [\"mae\"],\n",
    "}"
   ]
  },
  {
   "cell_type": "code",
   "execution_count": null,
   "metadata": {
    "scrolled": true
   },
   "outputs": [
    {
     "name": "stdout",
     "output_type": "stream",
     "text": [
      "[12:49:55] src/tree/updater_prune.cc:74: tree pruning end, 1 roots, 62 extra nodes, 0 pruned nodes, max_depth=5\n",
      "[0]\ttrain-mae:0.201139\tval-mae:0.201276\n",
      "[12:50:04] src/tree/updater_prune.cc:74: tree pruning end, 1 roots, 62 extra nodes, 0 pruned nodes, max_depth=5\n",
      "[1]\ttrain-mae:0.156018\tval-mae:0.15618\n",
      "[12:50:14] src/tree/updater_prune.cc:74: tree pruning end, 1 roots, 62 extra nodes, 0 pruned nodes, max_depth=5\n",
      "[2]\ttrain-mae:0.12643\tval-mae:0.126615\n",
      "[12:50:24] src/tree/updater_prune.cc:74: tree pruning end, 1 roots, 62 extra nodes, 0 pruned nodes, max_depth=5\n",
      "[3]\ttrain-mae:0.10606\tval-mae:0.106287\n",
      "[12:50:33] src/tree/updater_prune.cc:74: tree pruning end, 1 roots, 62 extra nodes, 0 pruned nodes, max_depth=5\n",
      "[4]\ttrain-mae:0.092867\tval-mae:0.093095\n",
      "[12:50:43] src/tree/updater_prune.cc:74: tree pruning end, 1 roots, 60 extra nodes, 0 pruned nodes, max_depth=5\n",
      "[5]\ttrain-mae:0.085254\tval-mae:0.085486\n",
      "[12:50:53] src/tree/updater_prune.cc:74: tree pruning end, 1 roots, 62 extra nodes, 0 pruned nodes, max_depth=5\n",
      "[6]\ttrain-mae:0.079731\tval-mae:0.079971\n",
      "[12:51:02] src/tree/updater_prune.cc:74: tree pruning end, 1 roots, 62 extra nodes, 0 pruned nodes, max_depth=5\n",
      "[7]\ttrain-mae:0.076307\tval-mae:0.076532\n",
      "[12:51:13] src/tree/updater_prune.cc:74: tree pruning end, 1 roots, 62 extra nodes, 0 pruned nodes, max_depth=5\n",
      "[8]\ttrain-mae:0.073329\tval-mae:0.073537\n",
      "[12:51:23] src/tree/updater_prune.cc:74: tree pruning end, 1 roots, 62 extra nodes, 0 pruned nodes, max_depth=5\n",
      "[9]\ttrain-mae:0.07165\tval-mae:0.071858\n",
      "[12:51:33] src/tree/updater_prune.cc:74: tree pruning end, 1 roots, 62 extra nodes, 0 pruned nodes, max_depth=5\n",
      "[10]\ttrain-mae:0.07052\tval-mae:0.070726\n",
      "[12:51:43] src/tree/updater_prune.cc:74: tree pruning end, 1 roots, 62 extra nodes, 0 pruned nodes, max_depth=5\n",
      "[11]\ttrain-mae:0.069314\tval-mae:0.069519\n",
      "[12:51:52] src/tree/updater_prune.cc:74: tree pruning end, 1 roots, 62 extra nodes, 0 pruned nodes, max_depth=5\n",
      "[12]\ttrain-mae:0.068683\tval-mae:0.068887\n",
      "[12:52:01] src/tree/updater_prune.cc:74: tree pruning end, 1 roots, 62 extra nodes, 0 pruned nodes, max_depth=5\n",
      "[13]\ttrain-mae:0.067991\tval-mae:0.068191\n",
      "[12:52:12] src/tree/updater_prune.cc:74: tree pruning end, 1 roots, 62 extra nodes, 0 pruned nodes, max_depth=5\n",
      "[14]\ttrain-mae:0.066986\tval-mae:0.067173\n",
      "[12:52:22] src/tree/updater_prune.cc:74: tree pruning end, 1 roots, 62 extra nodes, 0 pruned nodes, max_depth=5\n",
      "[15]\ttrain-mae:0.066665\tval-mae:0.06685\n",
      "[12:52:32] src/tree/updater_prune.cc:74: tree pruning end, 1 roots, 62 extra nodes, 0 pruned nodes, max_depth=5\n",
      "[16]\ttrain-mae:0.066135\tval-mae:0.066317\n",
      "[12:52:43] src/tree/updater_prune.cc:74: tree pruning end, 1 roots, 62 extra nodes, 0 pruned nodes, max_depth=5\n",
      "[17]\ttrain-mae:0.065554\tval-mae:0.065731\n",
      "[12:52:52] src/tree/updater_prune.cc:74: tree pruning end, 1 roots, 62 extra nodes, 0 pruned nodes, max_depth=5\n",
      "[18]\ttrain-mae:0.065211\tval-mae:0.065384\n",
      "[12:53:02] src/tree/updater_prune.cc:74: tree pruning end, 1 roots, 62 extra nodes, 0 pruned nodes, max_depth=5\n",
      "[19]\ttrain-mae:0.065042\tval-mae:0.065212\n",
      "[12:53:11] src/tree/updater_prune.cc:74: tree pruning end, 1 roots, 62 extra nodes, 0 pruned nodes, max_depth=5\n",
      "[20]\ttrain-mae:0.064605\tval-mae:0.064772\n",
      "[12:53:21] src/tree/updater_prune.cc:74: tree pruning end, 1 roots, 62 extra nodes, 0 pruned nodes, max_depth=5\n",
      "[21]\ttrain-mae:0.064326\tval-mae:0.064489\n",
      "[12:53:31] src/tree/updater_prune.cc:74: tree pruning end, 1 roots, 62 extra nodes, 0 pruned nodes, max_depth=5\n",
      "[22]\ttrain-mae:0.064009\tval-mae:0.064174\n",
      "[12:53:41] src/tree/updater_prune.cc:74: tree pruning end, 1 roots, 62 extra nodes, 0 pruned nodes, max_depth=5\n",
      "[23]\ttrain-mae:0.063772\tval-mae:0.063931\n",
      "[12:53:51] src/tree/updater_prune.cc:74: tree pruning end, 1 roots, 62 extra nodes, 0 pruned nodes, max_depth=5\n",
      "[24]\ttrain-mae:0.063621\tval-mae:0.063782\n",
      "[12:54:00] src/tree/updater_prune.cc:74: tree pruning end, 1 roots, 62 extra nodes, 0 pruned nodes, max_depth=5\n",
      "[25]\ttrain-mae:0.063211\tval-mae:0.063369\n",
      "[12:54:10] src/tree/updater_prune.cc:74: tree pruning end, 1 roots, 62 extra nodes, 0 pruned nodes, max_depth=5\n",
      "[26]\ttrain-mae:0.063013\tval-mae:0.06317\n",
      "[12:56:12] src/tree/updater_prune.cc:74: tree pruning end, 1 roots, 62 extra nodes, 0 pruned nodes, max_depth=5\n",
      "[27]\ttrain-mae:0.06291\tval-mae:0.063073\n",
      "[12:56:22] src/tree/updater_prune.cc:74: tree pruning end, 1 roots, 62 extra nodes, 0 pruned nodes, max_depth=5\n",
      "[28]\ttrain-mae:0.062758\tval-mae:0.062919\n",
      "[12:56:32] src/tree/updater_prune.cc:74: tree pruning end, 1 roots, 62 extra nodes, 0 pruned nodes, max_depth=5\n",
      "[29]\ttrain-mae:0.062673\tval-mae:0.062838\n",
      "[12:56:41] src/tree/updater_prune.cc:74: tree pruning end, 1 roots, 62 extra nodes, 0 pruned nodes, max_depth=5\n",
      "[30]\ttrain-mae:0.062565\tval-mae:0.06273\n",
      "[12:56:51] src/tree/updater_prune.cc:74: tree pruning end, 1 roots, 62 extra nodes, 0 pruned nodes, max_depth=5\n",
      "[31]\ttrain-mae:0.062473\tval-mae:0.062637\n",
      "[12:57:01] src/tree/updater_prune.cc:74: tree pruning end, 1 roots, 62 extra nodes, 0 pruned nodes, max_depth=5\n",
      "[32]\ttrain-mae:0.062424\tval-mae:0.06259\n",
      "[12:57:10] src/tree/updater_prune.cc:74: tree pruning end, 1 roots, 62 extra nodes, 0 pruned nodes, max_depth=5\n",
      "[33]\ttrain-mae:0.062338\tval-mae:0.062506\n",
      "[12:57:20] src/tree/updater_prune.cc:74: tree pruning end, 1 roots, 62 extra nodes, 0 pruned nodes, max_depth=5\n",
      "[34]\ttrain-mae:0.062291\tval-mae:0.06246\n",
      "[12:57:29] src/tree/updater_prune.cc:74: tree pruning end, 1 roots, 62 extra nodes, 0 pruned nodes, max_depth=5\n",
      "[35]\ttrain-mae:0.062246\tval-mae:0.062413\n"
     ]
    }
   ],
   "source": [
    "clf = xgb.train(params, trainset_dmatrix, evals=[(trainset_dmatrix, \"train\"),(valset_dmatrix, 'val')], num_boost_round = 50)\n",
    "\n",
    "predictions = xgb.predict(valset_dmatrix)"
   ]
  },
  {
   "cell_type": "code",
   "execution_count": null,
   "metadata": {
    "scrolled": true
   },
   "outputs": [],
   "source": []
  },
  {
   "cell_type": "code",
   "execution_count": null,
   "metadata": {},
   "outputs": [],
   "source": []
  },
  {
   "cell_type": "code",
   "execution_count": null,
   "metadata": {},
   "outputs": [],
   "source": []
  }
 ],
 "metadata": {
  "kernelspec": {
   "display_name": "Python 2",
   "language": "python",
   "name": "python2"
  },
  "language_info": {
   "codemirror_mode": {
    "name": "ipython",
    "version": 2
   },
   "file_extension": ".py",
   "mimetype": "text/x-python",
   "name": "python",
   "nbconvert_exporter": "python",
   "pygments_lexer": "ipython2",
   "version": "2.7.14"
  }
 },
 "nbformat": 4,
 "nbformat_minor": 2
}
